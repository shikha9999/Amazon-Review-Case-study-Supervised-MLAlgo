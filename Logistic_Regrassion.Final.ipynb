{
 "cells": [
  {
   "cell_type": "code",
   "execution_count": 33,
   "metadata": {},
   "outputs": [],
   "source": [
    "import numpy as np\n",
    "import pandas as pd\n",
    "import matplotlib.pyplot as plt\n",
    "%matplotlib inline\n",
    "import warnings\n",
    "warnings.filterwarnings(\"ignore\")\n",
    "\n",
    "import sqlite3\n",
    "import nltk\n",
    "import string\n",
    "import seaborn\n",
    "import re\n",
    "import string as sns  # Tutorial about Python regular expressions: https://pymotw.com/2/re/\n",
    "import pickle\n",
    "import os\n",
    "\n",
    "from sklearn.metrics import roc_auc_score\n",
    "from sklearn.metrics import accuracy_score\n",
    "from sklearn.metrics import confusion_matrix\n",
    "from collections import Counter \n",
    "from sklearn.model_selection import train_test_split\n",
    "from sklearn.metrics import accuracy_score\n",
    "from sklearn.model_selection import cross_val_score\n",
    "from collections import Counter \n",
    "from sklearn.metrics import accuracy_score\n",
    "from sklearn import model_selection\n",
    "from sklearn.feature_extraction.text import TfidfTransformer\n",
    "from sklearn.feature_extraction.text import TfidfVectorizer\n",
    "from sklearn.feature_extraction.text import CountVectorizer\n",
    "from sklearn.metrics import confusion_matrix\n",
    "from sklearn import metrics\n",
    "from sklearn.metrics import roc_curve, auc\n",
    "from nltk.stem.porter import PorterStemmer\n",
    "from nltk.corpus import stopwords\n",
    "from nltk.stem import PorterStemmer\n",
    "from nltk.stem.wordnet import WordNetLemmatizer\n",
    "from gensim.models import Word2Vec\n",
    "from sklearn.linear_model import LogisticRegression\n",
    "from gensim.models import KeyedVectors\n",
    "from tqdm import tqdm"
   ]
  },
  {
   "cell_type": "code",
   "execution_count": 35,
   "metadata": {},
   "outputs": [
    {
     "data": {
      "text/plain": [
       "(100000, 10)"
      ]
     },
     "execution_count": 35,
     "metadata": {},
     "output_type": "execute_result"
    }
   ],
   "source": [
    "lr_ar = pd.read_csv('Reviews.csv', nrows=100000) #100k datapoints\n",
    "lr_ar.shape"
   ]
  },
  {
   "cell_type": "code",
   "execution_count": 36,
   "metadata": {},
   "outputs": [
    {
     "name": "stdout",
     "output_type": "stream",
     "text": [
      "Number of data points in our data (100000, 10)\n"
     ]
    }
   ],
   "source": [
    "def partition(x):\n",
    "    if x < 3:\n",
    "        return 0\n",
    "    return 1\n",
    "\n",
    "actualScore = lr_ar['Score']\n",
    "positiveNegative = actualScore.map(partition) \n",
    "lr_ar['Score'] = positiveNegative\n",
    "print(\"Number of data points in our data\", lr_ar.shape)"
   ]
  },
  {
   "cell_type": "code",
   "execution_count": 37,
   "metadata": {
    "scrolled": true
   },
   "outputs": [
    {
     "data": {
      "text/html": [
       "<div>\n",
       "<style scoped>\n",
       "    .dataframe tbody tr th:only-of-type {\n",
       "        vertical-align: middle;\n",
       "    }\n",
       "\n",
       "    .dataframe tbody tr th {\n",
       "        vertical-align: top;\n",
       "    }\n",
       "\n",
       "    .dataframe thead th {\n",
       "        text-align: right;\n",
       "    }\n",
       "</style>\n",
       "<table border=\"1\" class=\"dataframe\">\n",
       "  <thead>\n",
       "    <tr style=\"text-align: right;\">\n",
       "      <th></th>\n",
       "      <th>Id</th>\n",
       "      <th>ProductId</th>\n",
       "      <th>UserId</th>\n",
       "      <th>ProfileName</th>\n",
       "      <th>HelpfulnessNumerator</th>\n",
       "      <th>HelpfulnessDenominator</th>\n",
       "      <th>Score</th>\n",
       "      <th>Time</th>\n",
       "      <th>Summary</th>\n",
       "      <th>Text</th>\n",
       "    </tr>\n",
       "  </thead>\n",
       "  <tbody>\n",
       "    <tr>\n",
       "      <th>0</th>\n",
       "      <td>1</td>\n",
       "      <td>B001E4KFG0</td>\n",
       "      <td>A3SGXH7AUHU8GW</td>\n",
       "      <td>delmartian</td>\n",
       "      <td>1</td>\n",
       "      <td>1</td>\n",
       "      <td>1</td>\n",
       "      <td>1303862400</td>\n",
       "      <td>Good Quality Dog Food</td>\n",
       "      <td>I have bought several of the Vitality canned d...</td>\n",
       "    </tr>\n",
       "    <tr>\n",
       "      <th>1</th>\n",
       "      <td>2</td>\n",
       "      <td>B00813GRG4</td>\n",
       "      <td>A1D87F6ZCVE5NK</td>\n",
       "      <td>dll pa</td>\n",
       "      <td>0</td>\n",
       "      <td>0</td>\n",
       "      <td>0</td>\n",
       "      <td>1346976000</td>\n",
       "      <td>Not as Advertised</td>\n",
       "      <td>Product arrived labeled as Jumbo Salted Peanut...</td>\n",
       "    </tr>\n",
       "    <tr>\n",
       "      <th>2</th>\n",
       "      <td>3</td>\n",
       "      <td>B000LQOCH0</td>\n",
       "      <td>ABXLMWJIXXAIN</td>\n",
       "      <td>Natalia Corres \"Natalia Corres\"</td>\n",
       "      <td>1</td>\n",
       "      <td>1</td>\n",
       "      <td>1</td>\n",
       "      <td>1219017600</td>\n",
       "      <td>\"Delight\" says it all</td>\n",
       "      <td>This is a confection that has been around a fe...</td>\n",
       "    </tr>\n",
       "    <tr>\n",
       "      <th>3</th>\n",
       "      <td>4</td>\n",
       "      <td>B000UA0QIQ</td>\n",
       "      <td>A395BORC6FGVXV</td>\n",
       "      <td>Karl</td>\n",
       "      <td>3</td>\n",
       "      <td>3</td>\n",
       "      <td>0</td>\n",
       "      <td>1307923200</td>\n",
       "      <td>Cough Medicine</td>\n",
       "      <td>If you are looking for the secret ingredient i...</td>\n",
       "    </tr>\n",
       "    <tr>\n",
       "      <th>4</th>\n",
       "      <td>5</td>\n",
       "      <td>B006K2ZZ7K</td>\n",
       "      <td>A1UQRSCLF8GW1T</td>\n",
       "      <td>Michael D. Bigham \"M. Wassir\"</td>\n",
       "      <td>0</td>\n",
       "      <td>0</td>\n",
       "      <td>1</td>\n",
       "      <td>1350777600</td>\n",
       "      <td>Great taffy</td>\n",
       "      <td>Great taffy at a great price.  There was a wid...</td>\n",
       "    </tr>\n",
       "  </tbody>\n",
       "</table>\n",
       "</div>"
      ],
      "text/plain": [
       "   Id   ProductId          UserId                      ProfileName  \\\n",
       "0   1  B001E4KFG0  A3SGXH7AUHU8GW                       delmartian   \n",
       "1   2  B00813GRG4  A1D87F6ZCVE5NK                           dll pa   \n",
       "2   3  B000LQOCH0   ABXLMWJIXXAIN  Natalia Corres \"Natalia Corres\"   \n",
       "3   4  B000UA0QIQ  A395BORC6FGVXV                             Karl   \n",
       "4   5  B006K2ZZ7K  A1UQRSCLF8GW1T    Michael D. Bigham \"M. Wassir\"   \n",
       "\n",
       "   HelpfulnessNumerator  HelpfulnessDenominator  Score        Time  \\\n",
       "0                     1                       1      1  1303862400   \n",
       "1                     0                       0      0  1346976000   \n",
       "2                     1                       1      1  1219017600   \n",
       "3                     3                       3      0  1307923200   \n",
       "4                     0                       0      1  1350777600   \n",
       "\n",
       "                 Summary                                               Text  \n",
       "0  Good Quality Dog Food  I have bought several of the Vitality canned d...  \n",
       "1      Not as Advertised  Product arrived labeled as Jumbo Salted Peanut...  \n",
       "2  \"Delight\" says it all  This is a confection that has been around a fe...  \n",
       "3         Cough Medicine  If you are looking for the secret ingredient i...  \n",
       "4            Great taffy  Great taffy at a great price.  There was a wid...  "
      ]
     },
     "execution_count": 37,
     "metadata": {},
     "output_type": "execute_result"
    }
   ],
   "source": [
    "lr_ar.head()"
   ]
  },
  {
   "cell_type": "code",
   "execution_count": 38,
   "metadata": {},
   "outputs": [],
   "source": [
    "#Sorting data according to ProductId in ascending order\n",
    "sorted_data=lr_ar.sort_values('ProductId', axis=0, ascending=True, inplace=False, kind='quicksort', na_position='last')"
   ]
  },
  {
   "cell_type": "code",
   "execution_count": 39,
   "metadata": {},
   "outputs": [
    {
     "data": {
      "text/plain": [
       "(88463, 10)"
      ]
     },
     "execution_count": 39,
     "metadata": {},
     "output_type": "execute_result"
    }
   ],
   "source": [
    "#Deduplication of entries\n",
    "final=sorted_data.drop_duplicates(subset={\"UserId\",\"ProfileName\",\"Time\",\"Text\"}, keep='first', inplace=False)\n",
    "final.shape"
   ]
  },
  {
   "cell_type": "code",
   "execution_count": 40,
   "metadata": {},
   "outputs": [
    {
     "data": {
      "text/plain": [
       "88.46300000000001"
      ]
     },
     "execution_count": 40,
     "metadata": {},
     "output_type": "execute_result"
    }
   ],
   "source": [
    "#Checking to see how much % of data still remains\n",
    "(final['Id'].size*1.0)/(lr_ar['Id'].size*1.0)*100"
   ]
  },
  {
   "cell_type": "code",
   "execution_count": 41,
   "metadata": {},
   "outputs": [],
   "source": [
    "final=final[final.HelpfulnessNumerator<=final.HelpfulnessDenominator]"
   ]
  },
  {
   "cell_type": "code",
   "execution_count": 42,
   "metadata": {},
   "outputs": [
    {
     "name": "stdout",
     "output_type": "stream",
     "text": [
      "(88461, 10)\n"
     ]
    },
    {
     "data": {
      "text/plain": [
       "1    75313\n",
       "0    13148\n",
       "Name: Score, dtype: int64"
      ]
     },
     "execution_count": 42,
     "metadata": {},
     "output_type": "execute_result"
    }
   ],
   "source": [
    "#Before starting the next phase of preprocessing lets see the number of entries left\n",
    "print(final.shape)\n",
    "\n",
    "#How many positive and negative reviews are present in our dataset?\n",
    "final['Score'].value_counts()"
   ]
  },
  {
   "cell_type": "markdown",
   "metadata": {},
   "source": [
    "#  Featurization"
   ]
  },
  {
   "cell_type": "code",
   "execution_count": 43,
   "metadata": {},
   "outputs": [],
   "source": [
    "x = lr_ar['Text'].values\n",
    "y= lr_ar['Score'].values"
   ]
  },
  {
   "cell_type": "markdown",
   "metadata": {},
   "source": [
    "##  BAG OF WORDS"
   ]
  },
  {
   "cell_type": "code",
   "execution_count": 44,
   "metadata": {},
   "outputs": [
    {
     "name": "stdout",
     "output_type": "stream",
     "text": [
      "(44890,) (44890,)\n",
      "(22110,) (22110,)\n",
      "(33000,) (33000,)\n",
      "====================================================================================================\n",
      "After vectorizations\n",
      "(44890, 39523) (44890,)\n",
      "(22110, 39523) (22110,)\n",
      "(33000, 39523) (33000,)\n",
      "====================================================================================================\n"
     ]
    }
   ],
   "source": [
    "# https://scikit-learn.org/stable/modules/generated/sklearn.model_selection.train_test_split.html\n",
    "from sklearn.model_selection import train_test_split\n",
    "\n",
    "X_train, X_test, y_train, y_test = train_test_split(x, y, test_size=0.33) \n",
    "X_train, X_cv, y_train, y_cv = train_test_split(X_train, y_train, test_size=0.33) \n",
    "\n",
    "\n",
    "print(X_train.shape, y_train.shape)\n",
    "print(X_cv.shape, y_cv.shape)\n",
    "print(X_test.shape, y_test.shape)\n",
    "\n",
    "print(\"=\"*100)\n",
    "\n",
    "from sklearn.feature_extraction.text import CountVectorizer\n",
    "vectorizer = CountVectorizer()\n",
    "vectorizer.fit(X_train) \n",
    "X_train_bow = vectorizer.transform(X_train)\n",
    "X_cv_bow = vectorizer.transform(X_cv)\n",
    "X_test_bow = vectorizer.transform(X_test)\n",
    "\n",
    "print(\"After vectorizations\")\n",
    "print(X_train_bow.shape, y_train.shape)\n",
    "print(X_cv_bow.shape, y_cv.shape)\n",
    "print(X_test_bow.shape, y_test.shape)\n",
    "print(\"=\"*100)"
   ]
  },
  {
   "cell_type": "markdown",
   "metadata": {},
   "source": [
    "<h2> Applying Logistic Regression With Penalty L1 </h2>"
   ]
  },
  {
   "cell_type": "code",
   "execution_count": 45,
   "metadata": {},
   "outputs": [
    {
     "name": "stdout",
     "output_type": "stream",
     "text": [
      "[0 1 0 ... 1 1 1]\n"
     ]
    }
   ],
   "source": [
    "clf = LogisticRegression(penalty='l1', dual=False, tol=0.0001, C=1.0, fit_intercept=True, intercept_scaling=1, class_weight=None, random_state=None, solver='warn', max_iter=100, multi_class='warn', verbose=0, warm_start=False, n_jobs=None)\n",
    "clf.fit(X_train_bow, y_train)\n",
    "pred = clf.predict(X_train_bow) \n",
    "print(pred)"
   ]
  },
  {
   "cell_type": "code",
   "execution_count": 115,
   "metadata": {},
   "outputs": [
    {
     "data": {
      "text/plain": [
       "array([[6.40994980e-01, 3.59005020e-01],\n",
       "       [4.52769765e-03, 9.95472302e-01],\n",
       "       [1.62567286e-03, 9.98374327e-01],\n",
       "       [2.98494365e-02, 9.70150564e-01],\n",
       "       [1.05407150e-01, 8.94592850e-01],\n",
       "       [3.80489584e-03, 9.96195104e-01],\n",
       "       [7.16841584e-03, 9.92831584e-01],\n",
       "       [1.30694256e-02, 9.86930574e-01],\n",
       "       [9.77331398e-02, 9.02266860e-01],\n",
       "       [5.96675798e-03, 9.94033242e-01],\n",
       "       [7.69239131e-03, 9.92307609e-01],\n",
       "       [7.48877734e-02, 9.25112227e-01],\n",
       "       [5.02061645e-04, 9.99497938e-01],\n",
       "       [8.40646763e-04, 9.99159353e-01],\n",
       "       [1.47000745e-01, 8.52999255e-01],\n",
       "       [7.61492402e-04, 9.99238508e-01],\n",
       "       [2.10103219e-01, 7.89896781e-01],\n",
       "       [4.26181863e-01, 5.73818137e-01],\n",
       "       [3.64022338e-04, 9.99635978e-01],\n",
       "       [4.46271294e-02, 9.55372871e-01],\n",
       "       [2.30826438e-02, 9.76917356e-01],\n",
       "       [6.61895455e-04, 9.99338105e-01],\n",
       "       [2.01482332e-05, 9.99979852e-01],\n",
       "       [1.68234659e-03, 9.98317653e-01],\n",
       "       [7.83790115e-02, 9.21620988e-01],\n",
       "       [1.51380786e-01, 8.48619214e-01],\n",
       "       [9.31107152e-04, 9.99068893e-01],\n",
       "       [2.47665053e-02, 9.75233495e-01],\n",
       "       [3.60267498e-04, 9.99639733e-01],\n",
       "       [9.08250619e-06, 9.99990917e-01]])"
      ]
     },
     "execution_count": 115,
     "metadata": {},
     "output_type": "execute_result"
    }
   ],
   "source": [
    "clf.predict_proba(X_train_bow)[0:30]"
   ]
  },
  {
   "cell_type": "code",
   "execution_count": 116,
   "metadata": {},
   "outputs": [
    {
     "data": {
      "text/plain": [
       "0.9567386945867676"
      ]
     },
     "execution_count": 116,
     "metadata": {},
     "output_type": "execute_result"
    }
   ],
   "source": [
    "clf.score(X_train_bow, y_train)"
   ]
  },
  {
   "cell_type": "code",
   "execution_count": 117,
   "metadata": {},
   "outputs": [
    {
     "data": {
      "text/plain": [
       "array([0, 1, 1, ..., 1, 1, 1], dtype=int64)"
      ]
     },
     "execution_count": 117,
     "metadata": {},
     "output_type": "execute_result"
    }
   ],
   "source": [
    "from sklearn.linear_model import LogisticRegression\n",
    "clf = LogisticRegression(penalty='l2', dual=False, tol=0.0001, C=1.0, fit_intercept=True, intercept_scaling=1, class_weight=None, random_state=None, solver='warn', max_iter=100, multi_class='warn', verbose=0, warm_start=False, n_jobs=None)\n",
    "clf.fit(X_train_bow, y_train)\n",
    "clf.predict(X_train_bow)"
   ]
  },
  {
   "cell_type": "code",
   "execution_count": 118,
   "metadata": {},
   "outputs": [
    {
     "data": {
      "text/plain": [
       "array([[6.59831286e-01, 3.40168714e-01],\n",
       "       [4.23046008e-03, 9.95769540e-01],\n",
       "       [7.83324698e-04, 9.99216675e-01],\n",
       "       ...,\n",
       "       [5.57093208e-02, 9.44290679e-01],\n",
       "       [2.10498260e-01, 7.89501740e-01],\n",
       "       [1.34301058e-06, 9.99998657e-01]])"
      ]
     },
     "execution_count": 118,
     "metadata": {},
     "output_type": "execute_result"
    }
   ],
   "source": [
    "clf.predict_proba(X_train_bow) "
   ]
  },
  {
   "cell_type": "code",
   "execution_count": 119,
   "metadata": {},
   "outputs": [
    {
     "data": {
      "text/plain": [
       "0.972287814658053"
      ]
     },
     "execution_count": 119,
     "metadata": {},
     "output_type": "execute_result"
    }
   ],
   "source": [
    "clf.score(X_train_bow, y_train)"
   ]
  },
  {
   "cell_type": "code",
   "execution_count": 120,
   "metadata": {},
   "outputs": [
    {
     "data": {
      "text/plain": [
       "0.8848384547633548"
      ]
     },
     "execution_count": 120,
     "metadata": {},
     "output_type": "execute_result"
    }
   ],
   "source": [
    "roc_auc_score(y_train, pred)"
   ]
  },
  {
   "cell_type": "markdown",
   "metadata": {},
   "source": [
    "<h2> Sparcity </h2>"
   ]
  },
  {
   "cell_type": "code",
   "execution_count": 121,
   "metadata": {},
   "outputs": [
    {
     "name": "stdout",
     "output_type": "stream",
     "text": [
      "Accuracy on test set: 87.985%\n",
      "F1-Score on test set: 0.929\n",
      "Non Zero weights: 9214\n"
     ]
    }
   ],
   "source": [
    "#https://github.com/cyanamous/Amazon-Food-Reviews-Analysis-and-Modelling/blob/master/4%20Amazon%20Food%20Reviews%20-%20Logistic%20Regression.ipynb\n",
    "from sklearn.metrics import accuracy_score\n",
    "from sklearn.metrics import confusion_matrix\n",
    "from sklearn.metrics import precision_score\n",
    "from sklearn.metrics import f1_score\n",
    "clf = LogisticRegression(C= 1000, penalty= 'l1')\n",
    "clf.fit(X_train_bow,y_train)\n",
    "y_pred = clf.predict(X_test_bow)\n",
    "print(\"Accuracy on test set: %0.3f%%\"%(accuracy_score(y_test, y_pred)*100))\n",
    "print(\"F1-Score on test set: %0.3f\"%(f1_score(y_test, y_pred)))\n",
    "print(\"Non Zero weights:\",np.count_nonzero(clf.coef_))"
   ]
  },
  {
   "cell_type": "code",
   "execution_count": 122,
   "metadata": {},
   "outputs": [
    {
     "name": "stdout",
     "output_type": "stream",
     "text": [
      "Accuracy on test set: 88.400%\n",
      "F1-Score on test set: 0.932\n",
      "Non Zero weights: 8730\n"
     ]
    }
   ],
   "source": [
    "clf = LogisticRegression(C= 100, penalty= 'l1')\n",
    "clf.fit(X_train_bow,y_train)\n",
    "y_pred = clf.predict(X_test_bow)\n",
    "print(\"Accuracy on test set: %0.3f%%\"%(accuracy_score(y_test, y_pred)*100))\n",
    "print(\"F1-Score on test set: %0.3f\"%(f1_score(y_test, y_pred)))\n",
    "print(\"Non Zero weights:\",np.count_nonzero(clf.coef_))"
   ]
  },
  {
   "cell_type": "code",
   "execution_count": 123,
   "metadata": {},
   "outputs": [
    {
     "name": "stdout",
     "output_type": "stream",
     "text": [
      "Accuracy on test set: 89.345%\n",
      "F1-Score on test set: 0.938\n",
      "Non Zero weights: 7730\n"
     ]
    }
   ],
   "source": [
    "clf = LogisticRegression(C= 10, penalty= 'l1')\n",
    "clf.fit(X_train_bow,y_train)\n",
    "y_pred = clf.predict(X_test_bow)\n",
    "print(\"Accuracy on test set: %0.3f%%\"%(accuracy_score(y_test, y_pred)*100))\n",
    "print(\"F1-Score on test set: %0.3f\"%(f1_score(y_test, y_pred)))\n",
    "print(\"Non Zero weights:\",np.count_nonzero(clf.coef_))"
   ]
  },
  {
   "cell_type": "code",
   "execution_count": 124,
   "metadata": {},
   "outputs": [
    {
     "name": "stdout",
     "output_type": "stream",
     "text": [
      "Accuracy on test set: 90.703%\n",
      "F1-Score on test set: 0.946\n",
      "Non Zero weights: 4137\n"
     ]
    }
   ],
   "source": [
    "clf = LogisticRegression(C= 1, penalty= 'l1')\n",
    "clf.fit(X_train_bow,y_train)\n",
    "y_pred = clf.predict(X_test_bow)\n",
    "print(\"Accuracy on test set: %0.3f%%\"%(accuracy_score(y_test, y_pred)*100))\n",
    "print(\"F1-Score on test set: %0.3f\"%(f1_score(y_test, y_pred)))\n",
    "print(\"Non Zero weights:\",np.count_nonzero(clf.coef_))"
   ]
  },
  {
   "cell_type": "code",
   "execution_count": 125,
   "metadata": {},
   "outputs": [
    {
     "name": "stdout",
     "output_type": "stream",
     "text": [
      "Accuracy on test set: 89.888%\n",
      "F1-Score on test set: 0.943\n",
      "Non Zero weights: 797\n"
     ]
    }
   ],
   "source": [
    "clf = LogisticRegression(C= 0.1, penalty= 'l1')\n",
    "clf.fit(X_train_bow,y_train)\n",
    "y_pred = clf.predict(X_test_bow)\n",
    "print(\"Accuracy on test set: %0.3f%%\"%(accuracy_score(y_test, y_pred)*100))\n",
    "print(\"F1-Score on test set: %0.3f\"%(f1_score(y_test, y_pred)))\n",
    "print(\"Non Zero weights:\",np.count_nonzero(clf.coef_))"
   ]
  },
  {
   "cell_type": "code",
   "execution_count": 126,
   "metadata": {},
   "outputs": [
    {
     "name": "stdout",
     "output_type": "stream",
     "text": [
      "Accuracy on test set: 86.488%\n",
      "F1-Score on test set: 0.926\n",
      "Non Zero weights: 128\n"
     ]
    }
   ],
   "source": [
    "clf = LogisticRegression(C= 0.01, penalty= 'l1')\n",
    "clf.fit(X_train_bow,y_train)\n",
    "y_pred = clf.predict(X_test_bow)\n",
    "print(\"Accuracy on test set: %0.3f%%\"%(accuracy_score(y_test, y_pred)*100))\n",
    "print(\"F1-Score on test set: %0.3f\"%(f1_score(y_test, y_pred)))\n",
    "print(\"Non Zero weights:\",np.count_nonzero(clf.coef_))"
   ]
  },
  {
   "cell_type": "markdown",
   "metadata": {},
   "source": [
    "<h2> Hyper Parameter Tuning (Best Alpha) </h2>"
   ]
  },
  {
   "cell_type": "code",
   "execution_count": 127,
   "metadata": {},
   "outputs": [
    {
     "name": "stdout",
     "output_type": "stream",
     "text": [
      "Fitting 3 folds for each of 16 candidates, totalling 48 fits\n"
     ]
    },
    {
     "name": "stderr",
     "output_type": "stream",
     "text": [
      "[Parallel(n_jobs=1)]: Using backend SequentialBackend with 1 concurrent workers.\n",
      "[Parallel(n_jobs=1)]: Done  48 out of  48 | elapsed:  4.9min finished\n"
     ]
    },
    {
     "name": "stdout",
     "output_type": "stream",
     "text": [
      "Best HyperParameter:  {'C': 1, 'penalty': 'l1'}\n"
     ]
    }
   ],
   "source": [
    "#https://github.com/cyanamous/Amazon-Food-Reviews-Analysis-and-Modelling/blob/master/4%20Amazon%20Food%20Reviews%20-%20Logistic%20Regression.ipynb\n",
    "from sklearn.model_selection import GridSearchCV\n",
    "clf = LogisticRegression()\n",
    "param_grid = {'C':[10**-5, 10**-4, 10**-3, 10**-2, 10**0, 10**2, 10**3, 10**4], 'penalty':['l1','l2']}\n",
    "gsv = GridSearchCV(clf,param_grid,verbose=1)\n",
    "gsv.fit(X_train_bow,y_train)\n",
    "print(\"Best HyperParameter: \",gsv.best_params_)"
   ]
  },
  {
   "cell_type": "markdown",
   "metadata": {},
   "source": [
    "<h2> Feature Engineering </h2>"
   ]
  },
  {
   "cell_type": "code",
   "execution_count": 128,
   "metadata": {},
   "outputs": [
    {
     "name": "stdout",
     "output_type": "stream",
     "text": [
      "Train Data Size:  (44890, 720274)\n",
      "Test Data Size:  (33000, 720274)\n"
     ]
    }
   ],
   "source": [
    "from sklearn import preprocessing\n",
    "bi_gram = CountVectorizer(ngram_range=(1,2)) \n",
    "X_train_fe = bi_gram.fit_transform(X_train)\n",
    "#Normalize Data\n",
    "X_train_fe = preprocessing.normalize(X_train_fe)\n",
    "print(\"Train Data Size: \",X_train_fe.shape)\n",
    "X_test_fe = bi_gram.transform(X_test)\n",
    "#Normalize Data\n",
    "X_test_fe = preprocessing.normalize(X_test_fe)\n",
    "print(\"Test Data Size: \",X_test_fe.shape)"
   ]
  },
  {
   "cell_type": "markdown",
   "metadata": {},
   "source": [
    "<h2> Feature Importance </h2>"
   ]
  },
  {
   "cell_type": "code",
   "execution_count": 129,
   "metadata": {},
   "outputs": [
    {
     "name": "stdout",
     "output_type": "stream",
     "text": [
      "Non Zero weights: 39582\n",
      "\t\t\t\tTop 10 Features Importance\t\t\t\t\t\t\n",
      "________________________________________________________________________________________________\n",
      "\tPositive Class\t\t\t\t\tNegative Class\n",
      "________________________________________________________________________________________________\n",
      "\t-2.9394\tworst          \t\t\t\t1.9811\tproper         \n",
      "\t-2.1388\tdisappointing  \t\t\t\t1.8455\tbeat           \n",
      "\t-2.0755\tterrible       \t\t\t\t1.8145\tawesome        \n",
      "\t-2.0194\ttasteless      \t\t\t\t1.7914\toverall        \n",
      "\t-1.9972\tawful          \t\t\t\t1.6973\tperfect        \n",
      "\t-1.7610\tshame          \t\t\t\t1.6626\texceptional    \n",
      "\t-1.7374\tdissappointed  \t\t\t\t1.6570\texcellent      \n",
      "\t-1.7024\tdisgusting     \t\t\t\t1.6408\tgrilled        \n",
      "\t-1.6950\tglorified      \t\t\t\t1.6191\tenjoys         \n",
      "\t-1.6947\tinedible       \t\t\t\t1.5568\tdelicious      \n"
     ]
    }
   ],
   "source": [
    "clf = LogisticRegression(C= 1, penalty= 'l2')\n",
    "clf.fit(X_train_bow,y_train)\n",
    "y_pred = clf.predict(X_test_bow)\n",
    "print(\"Non Zero weights:\",np.count_nonzero(clf.coef_))\n",
    "\n",
    "def show_most_informative_features(vectorizer, clf, n=10):\n",
    "    feature_names = vectorizer.get_feature_names()\n",
    "    coefs_with_fns = sorted(zip(clf.coef_[0], feature_names))\n",
    "    top = zip(coefs_with_fns[:n], coefs_with_fns[:-(n + 1):-1])\n",
    "    print(\"\\t\\t\\t\\tTop 10 Features Importance\\t\\t\\t\\t\\t\\t\")\n",
    "    print(\"________________________________________________________________________________________________\")\n",
    "   \n",
    "    print(\"\\tPositive Class\\t\\t\\t\\t\\tNegative Class\")\n",
    "    print(\"________________________________________________________________________________________________\")\n",
    "    for (coef_1, fn_1), (coef_2, fn_2) in top:\n",
    "        print(\"\\t%.4f\\t%-15s\\t\\t\\t\\t%.4f\\t%-15s\" % (coef_1, fn_1, coef_2, fn_2))\n",
    "        \n",
    "show_most_informative_features(vectorizer,clf)\n"
   ]
  },
  {
   "cell_type": "markdown",
   "metadata": {},
   "source": [
    "<h2> Performance Of Model </h2>"
   ]
  },
  {
   "cell_type": "markdown",
   "metadata": {},
   "source": [
    "<h2> Train Data </h2>"
   ]
  },
  {
   "cell_type": "code",
   "execution_count": 130,
   "metadata": {},
   "outputs": [
    {
     "data": {
      "image/png": "[encoded data removed]",
      "text/plain": [
       "<Figure size 432x288 with 1 Axes>"
      ]
     },
     "metadata": {},
     "output_type": "display_data"
    }
   ],
   "source": [
    "from sklearn.metrics import roc_auc_score\n",
    "import matplotlib.pyplot as plt\n",
    "import seaborn as sns\n",
    "c = [10**-5, 10**-4, 10**-3, 10**-2, 10**0, 10**2, 10**3, 10**4]\n",
    "for i in c:\n",
    "    lr = LogisticRegression()\n",
    "    lr.fit(X_train_bow, y_train)\n",
    "   \n",
    "    y_train_pred =  lr.predict_proba(X_train_bow)[:,1]\n",
    "    y_cv_pred =  lr.predict_proba(X_cv_bow)[:,1]\n",
    "    train_fpr, train_tpr, thresholds = roc_curve(y_train, lr.predict_proba(X_train_bow)[:,1])\n",
    "    cv_fpr, cv_tpr, thresholds = roc_curve(y_cv, lr.predict_proba(X_cv_bow)[:,1])\n",
    "\n",
    "plt.plot(train_fpr, train_tpr, label=\"train AUC =\"+str(auc(train_fpr, train_tpr)))\n",
    "plt.plot(cv_fpr, cv_tpr, label=\"test AUC =\"+str(auc(cv_fpr, cv_tpr)))\n",
    "plt.legend()\n",
    "plt.xlabel(\"Alpha: hyperparameter\")\n",
    "plt.ylabel(\"AUC\")\n",
    "plt.title(\"ERROR PLOTS\")\n",
    "plt.show()\n",
    "    "
   ]
  },
  {
   "cell_type": "markdown",
   "metadata": {},
   "source": [
    "<h2> Confusion Matrix For Train Data </h2>"
   ]
  },
  {
   "cell_type": "code",
   "execution_count": 131,
   "metadata": {},
   "outputs": [
    {
     "data": {
      "text/plain": [
       "<matplotlib.axes._subplots.AxesSubplot at 0x1a57575ab00>"
      ]
     },
     "execution_count": 131,
     "metadata": {},
     "output_type": "execute_result"
    },
    {
     "data": {
      "image/png": "[encoded data removed]",
      "text/plain": [
       "<Figure size 432x288 with 2 Axes>"
      ]
     },
     "metadata": {},
     "output_type": "display_data"
    }
   ],
   "source": [
    "#https://github.com/cyanamous/Amazon-Food-Reviews-Analysis-and-Modelling/blob/master/2%20Amazon%20Food%20Re20KNNviews%20-%%20.ipynb\n",
    "lr = LogisticRegression(C= 1, penalty= 'l2')\n",
    "lr.fit(X_train_bow,y_train)\n",
    "y_pred = lr.predict(X_train_bow)\n",
    "cm = pd.DataFrame(confusion_matrix(y_train, y_pred), range(2),range(2))\n",
    "sns.set(font_scale=1.4)\n",
    "sns.heatmap(cm, annot=True,annot_kws={\"size\": 16}, fmt='g')"
   ]
  },
  {
   "cell_type": "markdown",
   "metadata": {},
   "source": [
    "<h2> Cross-Validation Data </h2>"
   ]
  },
  {
   "cell_type": "code",
   "execution_count": 132,
   "metadata": {},
   "outputs": [
    {
     "data": {
      "image/png": "[encoded data removed]",
      "text/plain": [
       "<Figure size 432x288 with 1 Axes>"
      ]
     },
     "metadata": {},
     "output_type": "display_data"
    }
   ],
   "source": [
    "from sklearn.metrics import roc_auc_score\n",
    "import matplotlib.pyplot as plt\n",
    "import seaborn as sns\n",
    "\n",
    "c = [10**-5, 10**-4, 10**-3, 10**-2, 10**0, 10**2, 10**3, 10**4]\n",
    "for i in c:\n",
    "    \n",
    "    lr = LogisticRegression()\n",
    "    lr.fit(X_cv_bow, y_cv)\n",
    "   \n",
    "    y_cv_pred =  lr.predict_proba(X_cv_bow)[:,1]\n",
    "    y_train_pred =  lr.predict_proba(X_train_bow)[:,1]\n",
    "    cv_fpr, cv_tpr, thresholds = roc_curve(y_cv, lr.predict_proba(X_cv_bow)[:,1])\n",
    "    train_fpr, train_tpr, thresholds = roc_curve(y_train, lr.predict_proba(X_train_bow)[:,1])\n",
    "\n",
    "plt.plot(cv_fpr, cv_tpr, label=\"CV AUC =\"+str(auc(cv_fpr, cv_tpr)))\n",
    "plt.plot(train_fpr, train_tpr, label=\"train AUC =\"+str(auc(train_fpr, train_tpr)))\n",
    "plt.legend()\n",
    "plt.xlabel(\"Alpha: hyperparameter\")\n",
    "plt.ylabel(\"AUC\")\n",
    "plt.title(\"ERROR PLOTS\")\n",
    "plt.show()\n",
    "    "
   ]
  },
  {
   "cell_type": "markdown",
   "metadata": {},
   "source": [
    "<h2> Test Data </h2>"
   ]
  },
  {
   "cell_type": "code",
   "execution_count": 133,
   "metadata": {},
   "outputs": [
    {
     "data": {
      "image/png": "[encoded data removed]",
      "text/plain": [
       "<Figure size 432x288 with 1 Axes>"
      ]
     },
     "metadata": {},
     "output_type": "display_data"
    }
   ],
   "source": [
    "from sklearn.metrics import roc_curve, auc\n",
    "C = 1\n",
    "lr = LogisticRegression(C=1)\n",
    "lr.fit(X_test_bow, y_test)\n",
    "\n",
    "train_fpr, train_tpr, thresholds = roc_curve(y_train, lr.predict_proba(X_train_bow)[:,1])\n",
    "test_fpr, test_tpr, thresholds = roc_curve(y_test, lr.predict_proba(X_test_bow)[:,1])\n",
    "\n",
    "plt.plot(train_fpr, train_tpr, label=\"train AUC =\"+str(auc(train_fpr, train_tpr)))\n",
    "plt.plot(test_fpr, test_tpr, label=\"test AUC =\"+str(auc(test_fpr, test_tpr)))\n",
    "plt.legend()\n",
    "plt.xlabel(\"Alpha: hyperparameter\")\n",
    "plt.ylabel(\"AUC\")\n",
    "plt.title(\"ERROR PLOTS\")\n",
    "plt.show()"
   ]
  },
  {
   "cell_type": "markdown",
   "metadata": {},
   "source": [
    "<h2> Confusion Matrix For Test Data </h2>"
   ]
  },
  {
   "cell_type": "code",
   "execution_count": 134,
   "metadata": {},
   "outputs": [
    {
     "data": {
      "text/plain": [
       "<matplotlib.axes._subplots.AxesSubplot at 0x1a57180aa20>"
      ]
     },
     "execution_count": 134,
     "metadata": {},
     "output_type": "execute_result"
    },
    {
     "data": {
      "image/png": "[encoded data removed]",
      "text/plain": [
       "<Figure size 432x288 with 2 Axes>"
      ]
     },
     "metadata": {},
     "output_type": "display_data"
    }
   ],
   "source": [
    "clf = LogisticRegression(C= 1, penalty= 'l2')\n",
    "clf.fit(X_train_bow,y_train)\n",
    "y_pred = clf.predict(X_test_bow)\n",
    "cm = pd.DataFrame(confusion_matrix(y_test, y_pred), range(2),range(2))\n",
    "sns.set(font_scale=1.4)\n",
    "sns.heatmap(cm, annot=True,annot_kws={\"size\": 16}, fmt='g')"
   ]
  },
  {
   "cell_type": "markdown",
   "metadata": {},
   "source": [
    "<h2> TF_IDF </h2>"
   ]
  },
  {
   "cell_type": "code",
   "execution_count": 135,
   "metadata": {},
   "outputs": [
    {
     "name": "stdout",
     "output_type": "stream",
     "text": [
      "After vectorizations\n",
      "(44890, 39582) (44890,)\n",
      "(22110, 39582) (22110,)\n",
      "(33000, 39582) (33000,)\n",
      "====================================================================================================\n"
     ]
    }
   ],
   "source": [
    "# https://scikit-learn.org/stable/modules/generated/sklearn.model_selection.train_test_split.html\n",
    "vectorizer_1 =  TfidfVectorizer()\n",
    "vectorizer_1.fit(X_train) \n",
    "\n",
    "X_train_tfidf = vectorizer_1.transform(X_train)\n",
    "X_cv_tfidf = vectorizer_1.transform(X_cv)\n",
    "X_test_tfidf = vectorizer_1.transform(X_test)\n",
    "\n",
    "print(\"After vectorizations\")\n",
    "print(X_train_tfidf.shape, y_train.shape)\n",
    "print(X_cv_tfidf.shape, y_cv.shape)\n",
    "print(X_test_tfidf.shape, y_test.shape)\n",
    "print(\"=\"*100)"
   ]
  },
  {
   "cell_type": "markdown",
   "metadata": {},
   "source": [
    "<h2> Applying Logictic Regrassion </h2>"
   ]
  },
  {
   "cell_type": "code",
   "execution_count": 136,
   "metadata": {},
   "outputs": [
    {
     "data": {
      "text/plain": [
       "array([0, 1, 1, ..., 1, 1, 1], dtype=int64)"
      ]
     },
     "execution_count": 136,
     "metadata": {},
     "output_type": "execute_result"
    }
   ],
   "source": [
    "clf = LogisticRegression(penalty='l1', dual=False, tol=0.0001, C=1.0, fit_intercept=True, intercept_scaling=1, class_weight=None, random_state=None, solver='warn', max_iter=100, multi_class='warn', verbose=0, warm_start=False, n_jobs=None)\n",
    "clf.fit(X_train_tfidf, y_train)\n",
    "\n",
    "clf.predict(X_train_tfidf)"
   ]
  },
  {
   "cell_type": "code",
   "execution_count": 137,
   "metadata": {},
   "outputs": [
    {
     "data": {
      "text/plain": [
       "array([[7.65326911e-01, 2.34673089e-01],\n",
       "       [1.11246455e-02, 9.88875354e-01],\n",
       "       [8.54612404e-03, 9.91453876e-01],\n",
       "       [1.99112968e-02, 9.80088703e-01],\n",
       "       [2.51063140e-01, 7.48936860e-01],\n",
       "       [1.80498726e-02, 9.81950127e-01],\n",
       "       [2.35830725e-02, 9.76416927e-01],\n",
       "       [5.18680786e-02, 9.48131921e-01],\n",
       "       [3.46903062e-01, 6.53096938e-01],\n",
       "       [2.90437443e-03, 9.97095626e-01],\n",
       "       [8.44304691e-02, 9.15569531e-01],\n",
       "       [1.12474404e-02, 9.88752560e-01],\n",
       "       [7.99802828e-02, 9.20019717e-01],\n",
       "       [2.26230216e-03, 9.97737698e-01],\n",
       "       [2.62137711e-01, 7.37862289e-01],\n",
       "       [3.59286489e-02, 9.64071351e-01],\n",
       "       [1.77920541e-01, 8.22079459e-01],\n",
       "       [1.57907309e-01, 8.42092691e-01],\n",
       "       [7.11915995e-04, 9.99288084e-01],\n",
       "       [7.42055179e-02, 9.25794482e-01],\n",
       "       [6.87373599e-02, 9.31262640e-01],\n",
       "       [1.08667613e-02, 9.89133239e-01],\n",
       "       [3.56824532e-02, 9.64317547e-01],\n",
       "       [3.50485400e-02, 9.64951460e-01],\n",
       "       [4.78919185e-02, 9.52108081e-01],\n",
       "       [2.07608525e-01, 7.92391475e-01],\n",
       "       [5.45346456e-02, 9.45465354e-01],\n",
       "       [9.13312588e-03, 9.90866874e-01],\n",
       "       [2.49335615e-02, 9.75066439e-01],\n",
       "       [4.81199062e-02, 9.51880094e-01]])"
      ]
     },
     "execution_count": 137,
     "metadata": {},
     "output_type": "execute_result"
    }
   ],
   "source": [
    "clf.predict_proba(X_train_tfidf)[0:30] "
   ]
  },
  {
   "cell_type": "code",
   "execution_count": 138,
   "metadata": {},
   "outputs": [
    {
     "data": {
      "text/plain": [
       "0.9172421474715973"
      ]
     },
     "execution_count": 138,
     "metadata": {},
     "output_type": "execute_result"
    }
   ],
   "source": [
    "clf.score(X_train_tfidf, y_train)"
   ]
  },
  {
   "cell_type": "markdown",
   "metadata": {},
   "source": [
    "<h2> logistic Regression With Penalty L2 </h2>"
   ]
  },
  {
   "cell_type": "code",
   "execution_count": 139,
   "metadata": {},
   "outputs": [
    {
     "name": "stdout",
     "output_type": "stream",
     "text": [
      "[0 1 1 ... 1 1 1]\n"
     ]
    }
   ],
   "source": [
    "clf = LogisticRegression(penalty='l2', dual=False, tol=0.0001, C=1.0, fit_intercept=True, intercept_scaling=1, class_weight=None, random_state=None, solver='warn', max_iter=100, multi_class='warn', verbose=0, warm_start=False, n_jobs=None)\n",
    "clf.fit(X_train_tfidf, y_train)\n",
    "\n",
    "pred_1 =clf.predict(X_train_tfidf)\n",
    "print(pred_1)"
   ]
  },
  {
   "cell_type": "code",
   "execution_count": 140,
   "metadata": {},
   "outputs": [
    {
     "data": {
      "text/plain": [
       "array([[0.6877699 , 0.3122301 ],\n",
       "       [0.01438667, 0.98561333],\n",
       "       [0.01842824, 0.98157176],\n",
       "       [0.05494111, 0.94505889],\n",
       "       [0.19558741, 0.80441259],\n",
       "       [0.03226599, 0.96773401],\n",
       "       [0.07130263, 0.92869737],\n",
       "       [0.05446138, 0.94553862],\n",
       "       [0.36205897, 0.63794103],\n",
       "       [0.01477888, 0.98522112],\n",
       "       [0.0851219 , 0.9148781 ],\n",
       "       [0.04043031, 0.95956969],\n",
       "       [0.08500832, 0.91499168],\n",
       "       [0.00755852, 0.99244148],\n",
       "       [0.19190067, 0.80809933],\n",
       "       [0.03895224, 0.96104776],\n",
       "       [0.19360146, 0.80639854],\n",
       "       [0.20860907, 0.79139093],\n",
       "       [0.00327993, 0.99672007],\n",
       "       [0.06985235, 0.93014765],\n",
       "       [0.06124915, 0.93875085],\n",
       "       [0.02116671, 0.97883329],\n",
       "       [0.04140732, 0.95859268],\n",
       "       [0.06026361, 0.93973639],\n",
       "       [0.07352145, 0.92647855],\n",
       "       [0.13414522, 0.86585478],\n",
       "       [0.07834679, 0.92165321],\n",
       "       [0.03558229, 0.96441771],\n",
       "       [0.05025324, 0.94974676],\n",
       "       [0.06330388, 0.93669612]])"
      ]
     },
     "execution_count": 140,
     "metadata": {},
     "output_type": "execute_result"
    }
   ],
   "source": [
    "clf.predict_proba(X_train_tfidf)[0:30]"
   ]
  },
  {
   "cell_type": "code",
   "execution_count": 141,
   "metadata": {},
   "outputs": [
    {
     "data": {
      "text/plain": [
       "0.9206504789485409"
      ]
     },
     "execution_count": 141,
     "metadata": {},
     "output_type": "execute_result"
    }
   ],
   "source": [
    "clf.score(X_train_tfidf, y_train)"
   ]
  },
  {
   "cell_type": "code",
   "execution_count": 142,
   "metadata": {},
   "outputs": [
    {
     "data": {
      "text/plain": [
       "0.7648381145415398"
      ]
     },
     "execution_count": 142,
     "metadata": {},
     "output_type": "execute_result"
    }
   ],
   "source": [
    "roc_auc_score(y_train, pred_1)"
   ]
  },
  {
   "cell_type": "markdown",
   "metadata": {},
   "source": [
    "<h2> Pertubation Testing </h2>"
   ]
  },
  {
   "cell_type": "code",
   "execution_count": 143,
   "metadata": {},
   "outputs": [
    {
     "name": "stdout",
     "output_type": "stream",
     "text": [
      "Accuracy on test set: 89.418%\n",
      "Non Zero weights: 39582\n"
     ]
    }
   ],
   "source": [
    "clf = LogisticRegression(C= 500, penalty= 'l2')\n",
    "clf.fit(X_train_tfidf,y_train)\n",
    "y_pred = clf.predict(X_test_tfidf)\n",
    "print(\"Accuracy on test set: %0.3f%%\"%(accuracy_score(y_test, y_pred)*100))\n",
    "print(\"Non Zero weights:\",np.count_nonzero(clf.coef_))"
   ]
  },
  {
   "cell_type": "code",
   "execution_count": 144,
   "metadata": {},
   "outputs": [
    {
     "name": "stdout",
     "output_type": "stream",
     "text": [
      "[-5.56518587e+00  1.88791212e+00  1.45271350e-02  3.58090100e-02\n",
      "  3.36197197e+00  1.67136145e+00  1.74199067e-03  1.21844436e-02\n",
      "  1.21844436e-02  1.21844436e-02  1.21844436e-02  1.21844436e-02\n",
      "  1.21844436e-02  1.21844436e-02  1.21844436e-02  1.21844436e-02\n",
      " -1.30766675e+00  1.74199067e-03 -5.49532645e+00  1.15557330e-01\n",
      "  4.69993809e-03 -8.25140601e-01  1.08729576e+00  1.86756670e-02\n",
      " -9.21750792e-02  8.23616205e-02 -3.38491285e-01  1.89349801e-01\n",
      "  2.93103574e-01  7.52060203e-02 -7.41888890e-01 -7.46453566e-01\n",
      " -1.73937015e+00 -7.26376349e+00  1.41465243e-01 -2.43883343e+00\n",
      "  1.24120098e-01 -3.63282978e+00  3.38286650e-02  3.38286650e-02\n",
      "  5.32445225e-01  7.18670871e-02  9.62541871e+00 -6.30479588e+00\n",
      " -1.16639682e+00  5.62707754e-02  7.55521579e+00 -1.42087579e-01\n",
      "  6.51703800e-01  5.32445225e-01]\n"
     ]
    }
   ],
   "source": [
    "from scipy.sparse import find\n",
    "w1 = find(clf.coef_[0])[2]\n",
    "print(w1[:50])"
   ]
  },
  {
   "cell_type": "code",
   "execution_count": 145,
   "metadata": {},
   "outputs": [
    {
     "name": "stdout",
     "output_type": "stream",
     "text": [
      "[-5.56518587 -1.30766675 -5.49532645 ... -7.84977029 -5.59301332\n",
      " -2.09422974]\n"
     ]
    }
   ],
   "source": [
    "print(w1[w1<=0.0001])"
   ]
  },
  {
   "cell_type": "code",
   "execution_count": 146,
   "metadata": {},
   "outputs": [],
   "source": [
    "X_train_t = X_train_tfidf\n",
    "epsilon = np.random.uniform(low=-0.0001, high=0.0001, size=(find(X_train_t)[0].size,))\n",
    "a,b,c = find(X_train_t)\n",
    "X_train_t[a,b] = epsilon + X_train_t[a,b]"
   ]
  },
  {
   "cell_type": "code",
   "execution_count": 147,
   "metadata": {},
   "outputs": [
    {
     "name": "stdout",
     "output_type": "stream",
     "text": [
      "Accuracy on test set: 91.188%\n",
      "Non Zero weights: 39582\n"
     ]
    }
   ],
   "source": [
    "clf = LogisticRegression(C= 10, penalty= 'l2')\n",
    "clf.fit(X_train_t,y_train)\n",
    "y_pred = clf.predict(X_test_tfidf)\n",
    "print(\"Accuracy on test set: %0.3f%%\"%(accuracy_score(y_test, y_pred)*100))\n",
    "print(\"Non Zero weights:\",np.count_nonzero(clf.coef_))"
   ]
  },
  {
   "cell_type": "code",
   "execution_count": 148,
   "metadata": {},
   "outputs": [
    {
     "name": "stdout",
     "output_type": "stream",
     "text": [
      "[-1.75959701  0.79612658  0.05534679  0.03465148  0.30006631  0.12698354\n",
      "  0.00668748  0.04688253  0.04693233  0.04692227  0.04701625  0.04690845\n",
      "  0.04703094  0.04700129  0.04690732  0.04697246 -0.20236034  0.00668737\n",
      " -0.6208144   0.0491084   0.01200828 -1.16039724  0.16895551  0.04119727\n",
      " -0.01960526  0.0117718  -0.34588668  0.46300779  0.10307462  0.02165235\n",
      "  0.49234547 -0.37966384 -0.65697333 -0.83118086  0.03609066 -0.43268765\n",
      "  0.03560522 -0.4029252   0.03516928  0.03518494  0.13881581  0.03276439\n",
      "  1.08087285 -1.13508776 -0.23652949  0.02563885  1.53853365 -0.19331786\n",
      "  0.10695838  0.13887091]\n"
     ]
    }
   ],
   "source": [
    "w2 = find(clf.coef_[0])[2]\n",
    "print(w2[:50])"
   ]
  },
  {
   "cell_type": "code",
   "execution_count": 149,
   "metadata": {},
   "outputs": [
    {
     "name": "stdout",
     "output_type": "stream",
     "text": [
      "39582\n"
     ]
    }
   ],
   "source": [
    "print(w2.size)"
   ]
  },
  {
   "cell_type": "code",
   "execution_count": 150,
   "metadata": {},
   "outputs": [],
   "source": [
    "weights_diff = (abs(w1 - w2)/w1) * 100"
   ]
  },
  {
   "cell_type": "code",
   "execution_count": 151,
   "metadata": {},
   "outputs": [
    {
     "name": "stdout",
     "output_type": "stream",
     "text": [
      "25887\n"
     ]
    }
   ],
   "source": [
    "print(weights_diff[np.where(weights_diff > 30)].size)"
   ]
  },
  {
   "cell_type": "markdown",
   "metadata": {},
   "source": [
    "<h2>*In Pertubation Test Print The Features Names </h2>"
   ]
  },
  {
   "cell_type": "code",
   "execution_count": 152,
   "metadata": {},
   "outputs": [
    {
     "name": "stdout",
     "output_type": "stream",
     "text": [
      "\t-84245.9074\ttastier        \t\t\t\t16701.9424\tcanal          \n",
      "\t-65219.4536\thand           \t\t\t\t16093.6232\tmotion         \n",
      "\t-15329.5349\tchagrin        \t\t\t\t15894.0342\tscent          \n",
      "\t-8674.3890\tprevious       \t\t\t\t14922.2999\tsmallest       \n",
      "\t-7732.5868\tvelveeta       \t\t\t\t13713.4746\tsenna          \n",
      "\t-5535.0308\tvitamins       \t\t\t\t11611.6722\tten            \n",
      "\t-4420.4878\tparrot         \t\t\t\t9944.0815\toverdone       \n",
      "\t-4413.5960\tcornbread      \t\t\t\t7201.9157\tgyokuro        \n",
      "\t-4184.2367\twitnessed      \t\t\t\t6748.2777\tpaying         \n",
      "\t-4066.1364\tabsolutley     \t\t\t\t4692.0844\tsuch           \n"
     ]
    }
   ],
   "source": [
    "def show_most_informative_features(vectorizer_1, clf, n=10):\n",
    "    feature_names = vectorizer_1.get_feature_names()\n",
    "    coefs_with_fns = sorted(zip(weights_diff, feature_names))\n",
    "    top = zip(coefs_with_fns[:n], coefs_with_fns[:-(n + 1):-1])\n",
    "\n",
    "    for (coef_1, fn_1), (coef_2, fn_2) in top:\n",
    "        print(\"\\t%.4f\\t%-15s\\t\\t\\t\\t%.4f\\t%-15s\" % (coef_1, fn_1, coef_2, fn_2))\n",
    "show_most_informative_features(vectorizer_1,clf)"
   ]
  },
  {
   "cell_type": "markdown",
   "metadata": {},
   "source": [
    "<h2> Sparsity </h2>"
   ]
  },
  {
   "cell_type": "code",
   "execution_count": 153,
   "metadata": {},
   "outputs": [
    {
     "name": "stdout",
     "output_type": "stream",
     "text": [
      "Accuracy on test set: 88.321%\n",
      "F1-Score on test set: 0.931\n",
      "Non Zero weights: 9162\n"
     ]
    }
   ],
   "source": [
    "clf = LogisticRegression(C= 1000, penalty= 'l1')\n",
    "clf.fit(X_train_tfidf,y_train)\n",
    "y_pred = clf.predict(X_test_tfidf)\n",
    "print(\"Accuracy on test set: %0.3f%%\"%(accuracy_score(y_test, y_pred)*100))\n",
    "print(\"F1-Score on test set: %0.3f\"%(f1_score(y_test, y_pred)))\n",
    "print(\"Non Zero weights:\",np.count_nonzero(clf.coef_))"
   ]
  },
  {
   "cell_type": "code",
   "execution_count": 154,
   "metadata": {},
   "outputs": [
    {
     "name": "stdout",
     "output_type": "stream",
     "text": [
      "Accuracy on test set: 88.876%\n",
      "F1-Score on test set: 0.935\n",
      "Non Zero weights: 8424\n"
     ]
    }
   ],
   "source": [
    "clf = LogisticRegression(C= 100, penalty= 'l1')\n",
    "clf.fit(X_train_tfidf,y_train)\n",
    "y_pred = clf.predict(X_test_tfidf)\n",
    "print(\"Accuracy on test set: %0.3f%%\"%(accuracy_score(y_test, y_pred)*100))\n",
    "print(\"F1-Score on test set: %0.3f\"%(f1_score(y_test, y_pred)))\n",
    "print(\"Non Zero weights:\",np.count_nonzero(clf.coef_))"
   ]
  },
  {
   "cell_type": "code",
   "execution_count": 155,
   "metadata": {},
   "outputs": [
    {
     "name": "stdout",
     "output_type": "stream",
     "text": [
      "Accuracy on test set: 87.255%\n",
      "F1-Score on test set: 0.930\n",
      "Non Zero weights: 123\n"
     ]
    }
   ],
   "source": [
    "clf = LogisticRegression(C= 0.1, penalty= 'l1')\n",
    "clf.fit(X_train_tfidf,y_train)\n",
    "y_pred = clf.predict(X_test_tfidf)\n",
    "print(\"Accuracy on test set: %0.3f%%\"%(accuracy_score(y_test, y_pred)*100))\n",
    "print(\"F1-Score on test set: %0.3f\"%(f1_score(y_test, y_pred)))\n",
    "print(\"Non Zero weights:\",np.count_nonzero(clf.coef_))"
   ]
  },
  {
   "cell_type": "markdown",
   "metadata": {},
   "source": [
    "<h2> Hyper Parameter Tuning </h2>"
   ]
  },
  {
   "cell_type": "code",
   "execution_count": 156,
   "metadata": {},
   "outputs": [
    {
     "name": "stdout",
     "output_type": "stream",
     "text": [
      "Fitting 3 folds for each of 16 candidates, totalling 48 fits\n"
     ]
    },
    {
     "name": "stderr",
     "output_type": "stream",
     "text": [
      "[Parallel(n_jobs=1)]: Using backend SequentialBackend with 1 concurrent workers.\n",
      "[Parallel(n_jobs=1)]: Done  48 out of  48 | elapsed:  1.0min finished\n"
     ]
    },
    {
     "name": "stdout",
     "output_type": "stream",
     "text": [
      "Best HyperParameter:  {'C': 1, 'penalty': 'l1'}\n"
     ]
    }
   ],
   "source": [
    "clf = LogisticRegression()\n",
    "param_grid = {'C':[10**-5, 10**-4, 10**-3, 10**-2, 10**0, 10**2, 10**3, 10**4], 'penalty':['l1','l2']}\n",
    "gsv = GridSearchCV(clf,param_grid,verbose=1)\n",
    "gsv.fit(X_train_tfidf,y_train)\n",
    "print(\"Best HyperParameter: \",gsv.best_params_)"
   ]
  },
  {
   "cell_type": "markdown",
   "metadata": {},
   "source": [
    "<h2> Feature Engineering </h2>"
   ]
  },
  {
   "cell_type": "code",
   "execution_count": 157,
   "metadata": {},
   "outputs": [
    {
     "name": "stdout",
     "output_type": "stream",
     "text": [
      "Train Data Size:  (44890, 720274)\n",
      "Test Data Size:  (33000, 720274)\n"
     ]
    }
   ],
   "source": [
    "bi_gram = TfidfVectorizer(ngram_range=(1,2)) \n",
    "X_train_fe = bi_gram.fit_transform(X_train)\n",
    "\n",
    "X_train_fe = preprocessing.normalize(X_train_fe)\n",
    "print(\"Train Data Size: \",X_train_fe.shape)\n",
    "X_test_fe = bi_gram.transform(X_test)\n",
    "\n",
    "X_test_fe = preprocessing.normalize(X_test_fe)\n",
    "print(\"Test Data Size: \",X_test_fe.shape)"
   ]
  },
  {
   "cell_type": "markdown",
   "metadata": {},
   "source": [
    "<h2> Feature Importance </h2>"
   ]
  },
  {
   "cell_type": "code",
   "execution_count": 158,
   "metadata": {},
   "outputs": [
    {
     "name": "stdout",
     "output_type": "stream",
     "text": [
      "Non Zero weights: 39582\n",
      "\t\t\t\tTop 10 Features Importance\t\t\t\t\t\t\n",
      "________________________________________________________________________________________________\n",
      "\tPositive Class\t\t\t\t\tNegative Class\n",
      "________________________________________________________________________________________________\n",
      "\t-12.3951\tworst          \t\t\t\t14.1329\tgreat          \n",
      "\t-10.0449\tawful          \t\t\t\t11.1629\tperfect        \n",
      "\t-9.3033\tterrible       \t\t\t\t11.0302\tdelicious      \n",
      "\t-9.2614\tdisappointing  \t\t\t\t10.5960\tbest           \n",
      "\t-7.8102\tdisappointed   \t\t\t\t9.3615\texcellent      \n",
      "\t-7.5213\tdisappointment \t\t\t\t9.3043\tnice           \n",
      "\t-7.4263\twaste          \t\t\t\t9.1959\tgood           \n",
      "\t-7.2482\thorrible       \t\t\t\t9.0190\twonderful      \n",
      "\t-7.0242\ttasteless      \t\t\t\t8.5102\tamazing        \n",
      "\t-6.9390\tdisgusting     \t\t\t\t8.4844\tawesome        \n"
     ]
    }
   ],
   "source": [
    " clf = LogisticRegression(C= 10, penalty= 'l2')\n",
    "clf.fit(X_train_tfidf,y_train)\n",
    "y_pred = clf.predict(X_test_tfidf)\n",
    "print(\"Non Zero weights:\",np.count_nonzero(clf.coef_))\n",
    "\n",
    "def show_most_informative_features(vectorizer_1, clf, n=10):\n",
    "    feature_names = vectorizer_1.get_feature_names()\n",
    "    coefs_with_fns = sorted(zip(clf.coef_[0], feature_names))\n",
    "    top = zip(coefs_with_fns[:n], coefs_with_fns[:-(n + 1):-1])\n",
    "    print(\"\\t\\t\\t\\tTop 10 Features Importance\\t\\t\\t\\t\\t\\t\")\n",
    "    print(\"________________________________________________________________________________________________\")\n",
    "    print(\"\\tPositive Class\\t\\t\\t\\t\\tNegative Class\")\n",
    "    print(\"________________________________________________________________________________________________\")\n",
    "    for (coef_1, fn_1), (coef_2, fn_2) in top:\n",
    "        print(\"\\t%.4f\\t%-15s\\t\\t\\t\\t%.4f\\t%-15s\" % (coef_1, fn_1, coef_2, fn_2))\n",
    "        \n",
    "show_most_informative_features(vectorizer_1,clf)\n"
   ]
  },
  {
   "cell_type": "markdown",
   "metadata": {},
   "source": [
    "<h2> Performance Of Model </h2>"
   ]
  },
  {
   "cell_type": "markdown",
   "metadata": {},
   "source": [
    "<h2> Train Data </h2>"
   ]
  },
  {
   "cell_type": "code",
   "execution_count": 159,
   "metadata": {},
   "outputs": [
    {
     "data": {
      "image/png": "[encoded data removed]",
      "text/plain": [
       "<Figure size 432x288 with 1 Axes>"
      ]
     },
     "metadata": {},
     "output_type": "display_data"
    }
   ],
   "source": [
    "from sklearn.metrics import roc_auc_score\n",
    "import matplotlib.pyplot as plt\n",
    "import seaborn as sns\n",
    "c = [10**-5, 10**-4, 10**-3, 10**-2, 10**0, 10**2, 10**3, 10**4]\n",
    "for i in c:\n",
    "    lr = LogisticRegression()\n",
    "    lr.fit(X_train_tfidf, y_train)\n",
    "   \n",
    "    y_train_pred =  lr.predict_proba(X_train_tfidf)[:,1]\n",
    "    y_cv_pred =  lr.predict_proba(X_cv_tfidf)[:,1]\n",
    "    train_fpr, train_tpr, thresholds = roc_curve(y_train, lr.predict_proba(X_train_tfidf)[:,1])\n",
    "    cv_fpr, cv_tpr, thresholds = roc_curve(y_cv, lr.predict_proba(X_cv_tfidf)[:,1])\n",
    "\n",
    "plt.plot(train_fpr, train_tpr, label=\"train AUC =\"+str(auc(train_fpr, train_tpr)))\n",
    "plt.plot(cv_fpr, cv_tpr, label=\"test AUC =\"+str(auc(cv_fpr, cv_tpr)))\n",
    "plt.legend()\n",
    "plt.xlabel(\"Alpha: hyperparameter\")\n",
    "plt.ylabel(\"AUC\")\n",
    "plt.title(\"ERROR PLOTS\")\n",
    "plt.show()\n",
    "    "
   ]
  },
  {
   "cell_type": "markdown",
   "metadata": {},
   "source": [
    "<h2> Confusion Matrix For Train Data </h2>"
   ]
  },
  {
   "cell_type": "code",
   "execution_count": 160,
   "metadata": {},
   "outputs": [
    {
     "data": {
      "text/plain": [
       "<matplotlib.axes._subplots.AxesSubplot at 0x1a50350d588>"
      ]
     },
     "execution_count": 160,
     "metadata": {},
     "output_type": "execute_result"
    },
    {
     "data": {
      "image/png": "[encoded data removed]",
      "text/plain": [
       "<Figure size 432x288 with 2 Axes>"
      ]
     },
     "metadata": {},
     "output_type": "display_data"
    }
   ],
   "source": [
    "#https://github.com/cyanamous/Amazon-Food-Reviews-Analysis-and-Modelling/blob/master/2%20Amazon%20Food%20Re20KNNviews%20-%%20.ipynb\n",
    "\n",
    "lr = LogisticRegression(C= 1, penalty= 'l2')\n",
    "lr.fit(X_train_tfidf,y_train)\n",
    "y_pred = lr.predict(X_train_tfidf)\n",
    "cm = pd.DataFrame(confusion_matrix(y_train, y_pred), range(2),range(2))\n",
    "sns.set(font_scale=1.4)\n",
    "sns.heatmap(cm, annot=True,annot_kws={\"size\": 16}, fmt='g')"
   ]
  },
  {
   "cell_type": "markdown",
   "metadata": {},
   "source": [
    "<h2> Cross-Validation Data </h2>"
   ]
  },
  {
   "cell_type": "code",
   "execution_count": 161,
   "metadata": {},
   "outputs": [
    {
     "data": {
      "image/png": "[encoded data removed]",
      "text/plain": [
       "<Figure size 432x288 with 1 Axes>"
      ]
     },
     "metadata": {},
     "output_type": "display_data"
    }
   ],
   "source": [
    "from sklearn.metrics import roc_auc_score\n",
    "import matplotlib.pyplot as plt\n",
    "import seaborn as sns\n",
    "\n",
    "c = [10**-5, 10**-4, 10**-3, 10**-2, 10**0, 10**2, 10**3, 10**4]\n",
    "for i in c:\n",
    "    \n",
    "    lr = LogisticRegression()\n",
    "    lr.fit(X_cv_tfidf, y_cv)\n",
    "   \n",
    "    y_cv_pred =  lr.predict_proba(X_cv_tfidf)[:,1]\n",
    "    y_train_pred =  lr.predict_proba(X_train_tfidf)[:,1]\n",
    "    cv_fpr, cv_tpr, thresholds = roc_curve(y_cv, lr.predict_proba(X_cv_tfidf)[:,1])\n",
    "    train_fpr, train_tpr, thresholds = roc_curve(y_train, lr.predict_proba(X_train_tfidf)[:,1])\n",
    "\n",
    "plt.plot(cv_fpr, cv_tpr, label=\"CV AUC =\"+str(auc(cv_fpr, cv_tpr)))\n",
    "plt.plot(train_fpr, train_tpr, label=\"train AUC =\"+str(auc(train_fpr, train_tpr)))\n",
    "plt.legend()\n",
    "plt.xlabel(\"Alpha: hyperparameter\")\n",
    "plt.ylabel(\"AUC\")\n",
    "plt.title(\"ERROR PLOTS\")\n",
    "plt.show()\n",
    "    "
   ]
  },
  {
   "cell_type": "markdown",
   "metadata": {},
   "source": [
    "<h2> Test Data </h2>"
   ]
  },
  {
   "cell_type": "code",
   "execution_count": 162,
   "metadata": {},
   "outputs": [
    {
     "data": {
      "image/png": "[encoded data removed]",
      "text/plain": [
       "<Figure size 432x288 with 1 Axes>"
      ]
     },
     "metadata": {},
     "output_type": "display_data"
    }
   ],
   "source": [
    "C = 10\n",
    "lr = LogisticRegression(C=10)\n",
    "lr.fit(X_test_tfidf, y_test)\n",
    "\n",
    "train_fpr, train_tpr, thresholds = roc_curve(y_train, lr.predict_proba(X_train_tfidf)[:,1])\n",
    "test_fpr, test_tpr, thresholds = roc_curve(y_test, lr.predict_proba(X_test_tfidf)[:,1])\n",
    "\n",
    "plt.plot(train_fpr, train_tpr, label=\"train AUC =\"+str(auc(train_fpr, train_tpr)))\n",
    "plt.plot(test_fpr, test_tpr, label=\"test AUC =\"+str(auc(test_fpr, test_tpr)))\n",
    "plt.legend()\n",
    "plt.xlabel(\"Alpha: hyperparameter\")\n",
    "plt.ylabel(\"AUC\")\n",
    "plt.title(\"ERROR PLOTS\")\n",
    "plt.show()"
   ]
  },
  {
   "cell_type": "markdown",
   "metadata": {},
   "source": [
    "<h2> Confusion Matrix For Test Data </h2>"
   ]
  },
  {
   "cell_type": "code",
   "execution_count": 163,
   "metadata": {},
   "outputs": [
    {
     "data": {
      "text/plain": [
       "<matplotlib.axes._subplots.AxesSubplot at 0x1a502a2ce48>"
      ]
     },
     "execution_count": 163,
     "metadata": {},
     "output_type": "execute_result"
    },
    {
     "data": {
      "image/png": "[encoded data removed]",
      "text/plain": [
       "<Figure size 432x288 with 2 Axes>"
      ]
     },
     "metadata": {},
     "output_type": "display_data"
    }
   ],
   "source": [
    "clf = LogisticRegression(C= 1, penalty= 'l2')\n",
    "clf.fit(X_train_tfidf,y_train)\n",
    "y_pred = clf.predict(X_test_tfidf)\n",
    "cm = pd.DataFrame(confusion_matrix(y_test, y_pred), range(2),range(2))\n",
    "sns.set(font_scale=1.4)\n",
    "sns.heatmap(cm, annot=True,annot_kws={\"size\": 16}, fmt='g')"
   ]
  },
  {
   "cell_type": "markdown",
   "metadata": {},
   "source": [
    "## Word2Vec"
   ]
  },
  {
   "cell_type": "code",
   "execution_count": 46,
   "metadata": {},
   "outputs": [
    {
     "name": "stdout",
     "output_type": "stream",
     "text": [
      "[nltk_data] Downloading package stopwords to\n",
      "[nltk_data]     C:\\Users\\hp\\AppData\\Roaming\\nltk_data...\n",
      "[nltk_data]   Package stopwords is already up-to-date!\n",
      "{'its', 'd', 'y', 'whom', 'while', \"shouldn't\", \"doesn't\", 'his', 'isn', 'or', 'i', 'all', 'ourselves', 'we', \"that'll\", 'above', 'had', 'has', 'yourself', 'ours', \"you're\", 'does', 'than', 'your', 'after', 'didn', \"hadn't\", \"won't\", 's', 'who', 'weren', \"couldn't\", 'won', 'm', 'how', 'why', 'only', 'me', 'doing', 'because', 'of', \"hasn't\", \"aren't\", 'having', 'same', 'couldn', 'further', 'more', 'until', 'they', 'ma', 'our', 'then', \"it's\", \"you've\", 'wouldn', 'hadn', 'a', 'on', 'each', 'himself', 'about', 'but', 'out', 'and', 'again', 'once', 'from', 't', 'by', 'my', 'them', 'that', 'is', \"shan't\", 'was', 'during', 'against', 've', \"isn't\", 'do', 'into', \"she's\", \"wouldn't\", 'these', 'those', 'where', 'no', 'at', 'before', 'any', 'an', \"you'd\", \"haven't\", 'over', 'shan', 'hers', 'what', 'been', 'needn', 'herself', 'up', 'are', 'he', 'the', 'will', 'her', \"you'll\", 'such', 'themselves', 'so', 'hasn', 'did', 'she', 'it', 'not', \"wasn't\", \"needn't\", \"mustn't\", 'should', 'when', 'can', 'with', \"didn't\", 'down', 'which', 'be', 'to', 'here', 'o', 'yourselves', 'don', \"mightn't\", 'off', 'you', 'there', 'very', 'now', 'wasn', 'few', 'haven', 'am', 'through', 'll', 'myself', 'being', 'between', 'for', 'some', 'most', 'him', 'shouldn', 'too', 'were', 'under', 'as', 'ain', 'mustn', 'both', \"weren't\", 'below', 'own', 'their', 'other', 'just', 'if', 'mightn', 'nor', 'in', \"don't\", 'theirs', \"should've\", 'yours', 'have', 'aren', 'this', 'itself', 'doesn', 're'}\n",
      "******************************************\n",
      "tasti\n"
     ]
    }
   ],
   "source": [
    "import nltk\n",
    "nltk.download('stopwords')\n",
    "from nltk.corpus import stopwords\n",
    "from nltk.stem import PorterStemmer\n",
    "from nltk.stem.wordnet import WordNetLemmatizer\n",
    "\n",
    "\n",
    "stop = set(stopwords.words('english'))\n",
    "sno = nltk.stem.SnowballStemmer('english')\n",
    "\n",
    "\n",
    "def cleanhtml(sentence):\n",
    "    cleanr = re.compile('<.*?>')\n",
    "    cleantext = re.sub(cleanr, ' ', sentence)\n",
    "    return cleantext\n",
    "\n",
    "def cleanpunc(sentence):\n",
    "    cleaned = re.sub(r'[?|!|\\'|\"|#]',r'',sentence)\n",
    "    cleaned = re.sub(r'[.|,|)|(|\\|/|]',r' ',cleaned)\n",
    "    return cleaned\n",
    "\n",
    "print(stop)\n",
    "print('******************************************')\n",
    "print(sno.stem('tasty'))\n"
   ]
  },
  {
   "cell_type": "code",
   "execution_count": 47,
   "metadata": {},
   "outputs": [],
   "source": [
    "i=0\n",
    "str1=''\n",
    "final_string=[]\n",
    "all_positive_words=[]\n",
    "all_negative_words=[]\n",
    "s=''\n",
    "for sent in lr_ar['Text'].values:\n",
    "    filtered_sentence=[]\n",
    "    sent=cleanhtml(sent)\n",
    "    for w in sent.split():\n",
    "        for cleaned_words in cleanpunc(w).split():\n",
    "            if((cleaned_words.isalpha()) & (len(cleaned_words)>2)):\n",
    "                if(cleaned_words.lower() not in stop):\n",
    "                    s=(sno.stem(cleaned_words.lower())).encode('utf8')\n",
    "                    filtered_sentence.append(s)\n",
    "                    if (lr_ar['Score'].values)[i] == 'positive':\n",
    "                        all_positive_words.append(s)\n",
    "                    if (lr_ar['Score'].values)[i] == 'negative':\n",
    "                        all_negative_words.append(s)\n",
    "                    else:\n",
    "                        continue\n",
    "                else:\n",
    "                    continue\n",
    "    str1 = b\" \".join(filtered_sentence)\n",
    "   # print(\"***********************************************************************888\")\n",
    "    final_string.append(str1) \n",
    "    i+=1"
   ]
  },
  {
   "cell_type": "code",
   "execution_count": 48,
   "metadata": {},
   "outputs": [],
   "source": [
    "lr_ar['CleanedText']=final_string\n",
    "import gensim\n",
    "from gensim.models import word2vec\n",
    "from gensim.models import keyedvectors\n",
    "import pickle\n",
    "#import gensim\n",
    "\n",
    "\n",
    "i=0\n",
    "list_of_sent=[]\n",
    "for sent in lr_ar['Text'].values:\n",
    "    filtered_sentence=[]\n",
    "    sent=cleanhtml(sent)\n",
    "    for w in sent.split():\n",
    "        for cleaned_words in cleanpunc(w).split():\n",
    "            if(cleaned_words.isalpha()):\n",
    "                filtered_sentence.append(cleaned_words.lower())\n",
    "            else:\n",
    "                continue\n",
    "    list_of_sent.append(filtered_sentence) "
   ]
  },
  {
   "cell_type": "code",
   "execution_count": 49,
   "metadata": {},
   "outputs": [
    {
     "name": "stdout",
     "output_type": "stream",
     "text": [
      "I have bought several of the Vitality canned dog food products and have found them all to be of good quality. The product looks more like a stew than a processed meat and it smells better. My Labrador is finicky and she appreciates this product better than  most.\n",
      "***********************************************************************************\n",
      "['i', 'have', 'bought', 'several', 'of', 'the', 'vitality', 'canned', 'dog', 'food', 'products', 'and', 'have', 'found', 'them', 'all', 'to', 'be', 'of', 'good', 'quality', 'the', 'product', 'looks', 'more', 'like', 'a', 'stew', 'than', 'a', 'processed', 'meat', 'and', 'it', 'smells', 'better', 'my', 'labrador', 'is', 'finicky', 'and', 'she', 'appreciates', 'this', 'product', 'better', 'than', 'most']\n"
     ]
    }
   ],
   "source": [
    "print(lr_ar['Text'].values[0])\n",
    "print(\"***********************************************************************************\")\n",
    "print(list_of_sent[0])\n"
   ]
  },
  {
   "cell_type": "code",
   "execution_count": 50,
   "metadata": {},
   "outputs": [],
   "source": [
    "i=0\n",
    "list_of_sentance_train=[]\n",
    "for sentance in X_train:\n",
    "    list_of_sentance_train.append(sentance.split())"
   ]
  },
  {
   "cell_type": "code",
   "execution_count": 51,
   "metadata": {},
   "outputs": [],
   "source": [
    "w2v_model=Word2Vec(list_of_sentance_train,min_count=5,size=50, workers=4)"
   ]
  },
  {
   "cell_type": "code",
   "execution_count": 52,
   "metadata": {},
   "outputs": [
    {
     "name": "stdout",
     "output_type": "stream",
     "text": [
      "number of words that occured minimum 5 times  25792\n",
      "sample words  ['It', 'was', 'bad', 'before', 'we', 'open', 'them.', 'I', 'saw', 'them', 'when', 'got.', 'did', 'open.', 'had', 'some', 'spot', 'green', 'color.', 'not', 'know', 'what', 'it', 'was.', 'very', 'upset.', 'Do', 'buy', 'this', 'product.', 'placed', 'the', 'order', 'on', 'tuesday,', 'received', 'saturday', 'with', 'cheapest', 'shipping;', 'super', 'faster.', 'himalayan', 'salt', 'comes', 'in', 'a', 'sealed', 'ziploc', 'bag']\n"
     ]
    }
   ],
   "source": [
    "w2v_words = list(w2v_model.wv.vocab)\n",
    "print(\"number of words that occured minimum 5 times \",len(w2v_words))\n",
    "print(\"sample words \", w2v_words[0:50])"
   ]
  },
  {
   "cell_type": "code",
   "execution_count": 53,
   "metadata": {},
   "outputs": [
    {
     "name": "stderr",
     "output_type": "stream",
     "text": [
      "100%|████████████████████████████████████████████████████████████████████████████| 44890/44890 [09:25<00:00, 79.43it/s]\n"
     ]
    },
    {
     "name": "stdout",
     "output_type": "stream",
     "text": [
      "(44890, 50)\n",
      "[-1.32207866 -1.04842886  0.64064857 -0.6280736   1.04336646 -0.00922216\n",
      " -0.22173816  0.02742867  0.67114201  0.42777424 -0.42771868  2.25438424\n",
      " -0.37666007  0.8190864  -0.00805358 -0.70246006 -0.45183454 -0.76101701\n",
      "  0.10914156  0.24638367  0.42318085  0.71429604  0.57623587 -0.42930146\n",
      " -1.04356092 -0.4826405   0.19930768 -0.09112886  0.37575087 -0.81127529\n",
      "  0.2355651  -0.43527824  0.0105704  -0.99719149  0.73866351  1.38672636\n",
      " -0.33246536  0.62379534 -0.05171633 -0.01408278  0.92707349  0.1765605\n",
      " -0.49875856 -0.82269328  0.62149322 -0.02000601 -0.50321443 -0.68259518\n",
      "  0.25562387  0.1630869 ]\n"
     ]
    }
   ],
   "source": [
    "sent_vectors_train = []; # the avg-w2v for each sentence/review is stored in this list\n",
    "for sent in tqdm(list_of_sentance_train): # for each review/sentence\n",
    "    sent_vec = np.zeros(50) # as word vectors are of zero length 50, you might need to change this to 300 if you use google's w2v\n",
    "    cnt_words =0; # num of words with a valid vector in the sentence/review\n",
    "    for word in sent: # for each word in a review/sentence\n",
    "        if word in w2v_words:\n",
    "            vec = w2v_model.wv[word]\n",
    "            sent_vec += vec\n",
    "            cnt_words += 1\n",
    "    if cnt_words != 0:\n",
    "        sent_vec /= cnt_words\n",
    "    sent_vectors_train.append(sent_vec)\n",
    "sent_vectors_train = np.array(sent_vectors_train)\n",
    "print(sent_vectors_train.shape)\n",
    "print(sent_vectors_train[0])"
   ]
  },
  {
   "cell_type": "code",
   "execution_count": 54,
   "metadata": {},
   "outputs": [],
   "source": [
    "i=0\n",
    "list_of_sentance_cv=[]\n",
    "for sentance in X_cv:\n",
    "    list_of_sentance_cv.append(sentance.split())"
   ]
  },
  {
   "cell_type": "code",
   "execution_count": 55,
   "metadata": {},
   "outputs": [
    {
     "name": "stderr",
     "output_type": "stream",
     "text": [
      "100%|████████████████████████████████████████████████████████████████████████████| 22110/22110 [04:17<00:00, 85.76it/s]\n"
     ]
    },
    {
     "name": "stdout",
     "output_type": "stream",
     "text": [
      "(22110, 50)\n",
      "[-7.56630281e-01 -1.92316175e-04  8.09186575e-01  3.34420459e-01\n",
      "  5.33577071e-01 -6.17481679e-01  3.70707988e-01 -5.32819531e-01\n",
      "  3.74631361e-01  1.06155191e+00 -1.88203322e-02  1.27262438e+00\n",
      " -5.12589458e-01  8.06501874e-01 -1.97442300e-01 -4.38824482e-01\n",
      "  3.64666998e-03 -4.91539681e-01 -3.19004697e-02 -5.24503014e-02\n",
      "  1.07515739e-01  7.26048004e-01  7.77407996e-01 -2.80754895e-01\n",
      " -8.41673829e-01 -2.12872653e-01  1.34885249e-01 -3.94692199e-01\n",
      "  9.42511541e-01 -3.66057699e-01  9.41113783e-03 -1.26406877e+00\n",
      "  2.05534485e-01 -6.08266403e-01  6.00560932e-01  1.11699247e-01\n",
      "  1.49277286e-01  2.47411836e-01 -6.22235906e-02  1.97117162e-02\n",
      "  2.09708598e-01 -4.12820609e-01 -4.83980998e-01 -4.72135152e-01\n",
      "  7.73818265e-02  5.49668069e-01 -4.90998309e-01 -9.13875721e-01\n",
      " -5.85470274e-02  3.19515030e-01]\n"
     ]
    }
   ],
   "source": [
    "# average Word2Vec\n",
    "# compute average word2vec for each review.i=0\n",
    "list_of_sentance_cv=[]\n",
    "for sentance in X_cv:\n",
    "    list_of_sentance_cv.append(sentance.split())\n",
    "sent_vectors_cv = []; # the avg-w2v for each sentence/review is stored in this list\n",
    "for sent in tqdm(list_of_sentance_cv): # for each review/sentence\n",
    "    sent_vec = np.zeros(50) # as word vectors are of zero length 50, you might need to change this to 300 if you use google's w2v\n",
    "    cnt_words =0; # num of words with a valid vector in the sentence/review\n",
    "    for word in sent: # for each word in a review/sentence\n",
    "        if word in w2v_words:\n",
    "            vec = w2v_model.wv[word]\n",
    "            sent_vec += vec\n",
    "            cnt_words += 1\n",
    "    if cnt_words != 0:\n",
    "        sent_vec /= cnt_words\n",
    "    sent_vectors_cv.append(sent_vec)\n",
    "sent_vectors_cv = np.array(sent_vectors_cv)\n",
    "print(sent_vectors_cv.shape)\n",
    "print(sent_vectors_cv[0])"
   ]
  },
  {
   "cell_type": "code",
   "execution_count": 56,
   "metadata": {},
   "outputs": [],
   "source": [
    "i=0\n",
    "list_of_sentance_test=[]\n",
    "for sentance in X_test:\n",
    "    list_of_sentance_test.append(sentance.split())"
   ]
  },
  {
   "cell_type": "code",
   "execution_count": 57,
   "metadata": {},
   "outputs": [
    {
     "name": "stderr",
     "output_type": "stream",
     "text": [
      "100%|████████████████████████████████████████████████████████████████████████████| 33000/33000 [06:35<00:00, 83.37it/s]\n"
     ]
    },
    {
     "name": "stdout",
     "output_type": "stream",
     "text": [
      "(33000, 50)\n",
      "[-0.51059914 -0.37174595  0.81321106 -0.54551895  0.10084489 -0.06353395\n",
      "  0.03433469 -0.19089737  0.59275537  0.33613082  0.15631533  1.39129289\n",
      "  0.18752261  0.21157296 -0.11073466 -0.13360631 -0.47795352 -0.34653222\n",
      "  0.43943535  0.04579974  0.8592431   0.46804279  0.95979614  0.46197947\n",
      " -0.45197898 -0.54565966  0.20984642 -0.08207642  0.02428278  0.08067978\n",
      " -0.46096137 -0.60966313  0.82873439 -0.79157455  0.44895283  1.42612153\n",
      "  0.6058865  -0.00953081  0.2791993  -0.24331216  0.3146742  -0.51012369\n",
      " -0.24938384 -0.53815669 -0.53337538 -0.45265483  0.25339597 -0.41216763\n",
      " -0.30203587  0.2808947 ]\n"
     ]
    }
   ],
   "source": [
    "# average Word2Vec\n",
    "# compute average word2vec for each review.\n",
    "sent_vectors_test = []; # the avg-w2v for each sentence/review is stored in this list\n",
    "for sent in tqdm(list_of_sentance_test): # for each review/sentence\n",
    "    sent_vec = np.zeros(50) # as word vectors are of zero length 50, you might need to change this to 300 if you use google's w2v\n",
    "    cnt_words =0; # num of words with a valid vector in the sentence/review\n",
    "    for word in sent: # for each word in a review/sentence\n",
    "        if word in w2v_words:\n",
    "            vec = w2v_model.wv[word]\n",
    "            sent_vec += vec\n",
    "            cnt_words += 1\n",
    "    if cnt_words != 0:\n",
    "        sent_vec /= cnt_words\n",
    "    sent_vectors_test.append(sent_vec)\n",
    "sent_vectors_test = np.array(sent_vectors_test)\n",
    "print(sent_vectors_test.shape)\n",
    "print(sent_vectors_test[0])"
   ]
  },
  {
   "cell_type": "markdown",
   "metadata": {},
   "source": [
    "<h2> Applying Logistic Regression With Penalty L1 </h2>"
   ]
  },
  {
   "cell_type": "code",
   "execution_count": 176,
   "metadata": {},
   "outputs": [
    {
     "name": "stdout",
     "output_type": "stream",
     "text": [
      "[0 1 1 ... 1 1 1]\n"
     ]
    }
   ],
   "source": [
    "clf = LogisticRegression(penalty='l1', dual=False, tol=0.0001, C=1.0, fit_intercept=True, intercept_scaling=1, class_weight=None, random_state=None, solver='warn', max_iter=100, multi_class='warn', verbose=0, warm_start=False, n_jobs=None)\n",
    "clf.fit(sent_vectors_train, y_train)\n",
    "\n",
    "pred_2 = clf.predict(sent_vectors_train)\n",
    "print(pred_2)"
   ]
  },
  {
   "cell_type": "code",
   "execution_count": 177,
   "metadata": {},
   "outputs": [
    {
     "data": {
      "text/plain": [
       "array([[0.72108157, 0.27891843],\n",
       "       [0.04177261, 0.95822739],\n",
       "       [0.0122383 , 0.9877617 ],\n",
       "       [0.07150844, 0.92849156],\n",
       "       [0.08802139, 0.91197861],\n",
       "       [0.0767147 , 0.9232853 ],\n",
       "       [0.07399883, 0.92600117],\n",
       "       [0.03214447, 0.96785553],\n",
       "       [0.42417185, 0.57582815],\n",
       "       [0.00402065, 0.99597935],\n",
       "       [0.23251496, 0.76748504],\n",
       "       [0.07153272, 0.92846728],\n",
       "       [0.18809077, 0.81190923],\n",
       "       [0.01645058, 0.98354942],\n",
       "       [0.45035593, 0.54964407],\n",
       "       [0.0388972 , 0.9611028 ],\n",
       "       [0.21168242, 0.78831758],\n",
       "       [0.22503337, 0.77496663],\n",
       "       [0.0078925 , 0.9921075 ],\n",
       "       [0.13285135, 0.86714865],\n",
       "       [0.10323637, 0.89676363],\n",
       "       [0.1107263 , 0.8892737 ],\n",
       "       [0.13564538, 0.86435462],\n",
       "       [0.22133945, 0.77866055],\n",
       "       [0.1318511 , 0.8681489 ],\n",
       "       [0.06846783, 0.93153217],\n",
       "       [0.18715475, 0.81284525],\n",
       "       [0.04494692, 0.95505308],\n",
       "       [0.10468751, 0.89531249],\n",
       "       [0.22260861, 0.77739139]])"
      ]
     },
     "execution_count": 177,
     "metadata": {},
     "output_type": "execute_result"
    }
   ],
   "source": [
    "clf.predict_proba(sent_vectors_train)[0:30] "
   ]
  },
  {
   "cell_type": "code",
   "execution_count": 178,
   "metadata": {},
   "outputs": [
    {
     "data": {
      "text/plain": [
       "0.8609935397638673"
      ]
     },
     "execution_count": 178,
     "metadata": {},
     "output_type": "execute_result"
    }
   ],
   "source": [
    "clf.score(sent_vectors_train, y_train)"
   ]
  },
  {
   "cell_type": "code",
   "execution_count": 179,
   "metadata": {},
   "outputs": [
    {
     "data": {
      "text/plain": [
       "0.5958188303193559"
      ]
     },
     "execution_count": 179,
     "metadata": {},
     "output_type": "execute_result"
    }
   ],
   "source": [
    "roc_auc_score(y_train, pred_2)"
   ]
  },
  {
   "cell_type": "markdown",
   "metadata": {},
   "source": [
    "<h2> Logistic Regression With Penalty L2 </h2>"
   ]
  },
  {
   "cell_type": "code",
   "execution_count": 180,
   "metadata": {},
   "outputs": [
    {
     "data": {
      "text/plain": [
       "array([0, 1, 1, ..., 1, 1, 1], dtype=int64)"
      ]
     },
     "execution_count": 180,
     "metadata": {},
     "output_type": "execute_result"
    }
   ],
   "source": [
    "clf = LogisticRegression(penalty='l2', dual=False, tol=0.0001, C=1.0, fit_intercept=True, intercept_scaling=1, class_weight=None, random_state=None, solver='warn', max_iter=100, multi_class='warn', verbose=0, warm_start=False, n_jobs=None)\n",
    "clf.fit(sent_vectors_train, y_train)\n",
    "\n",
    "clf.predict(sent_vectors_train)"
   ]
  },
  {
   "cell_type": "code",
   "execution_count": 181,
   "metadata": {},
   "outputs": [
    {
     "data": {
      "text/plain": [
       "array([[0.71956928, 0.28043072],\n",
       "       [0.04234963, 0.95765037],\n",
       "       [0.01218672, 0.98781328],\n",
       "       [0.070901  , 0.929099  ],\n",
       "       [0.08765945, 0.91234055],\n",
       "       [0.07769962, 0.92230038],\n",
       "       [0.0743332 , 0.9256668 ],\n",
       "       [0.03230246, 0.96769754],\n",
       "       [0.42575228, 0.57424772],\n",
       "       [0.00400604, 0.99599396],\n",
       "       [0.23654641, 0.76345359],\n",
       "       [0.07117395, 0.92882605],\n",
       "       [0.18679258, 0.81320742],\n",
       "       [0.01692482, 0.98307518],\n",
       "       [0.44865031, 0.55134969],\n",
       "       [0.03842239, 0.96157761],\n",
       "       [0.21070314, 0.78929686],\n",
       "       [0.22724777, 0.77275223],\n",
       "       [0.00809379, 0.99190621],\n",
       "       [0.13400564, 0.86599436],\n",
       "       [0.10586246, 0.89413754],\n",
       "       [0.11305521, 0.88694479],\n",
       "       [0.13320597, 0.86679403],\n",
       "       [0.21956734, 0.78043266],\n",
       "       [0.13226025, 0.86773975],\n",
       "       [0.0691974 , 0.9308026 ],\n",
       "       [0.18539426, 0.81460574],\n",
       "       [0.04485799, 0.95514201],\n",
       "       [0.1043887 , 0.8956113 ],\n",
       "       [0.22372031, 0.77627969]])"
      ]
     },
     "execution_count": 181,
     "metadata": {},
     "output_type": "execute_result"
    }
   ],
   "source": [
    "clf.predict_proba(sent_vectors_train)[0:30] "
   ]
  },
  {
   "cell_type": "code",
   "execution_count": 182,
   "metadata": {},
   "outputs": [
    {
     "data": {
      "text/plain": [
       "0.8609267097349076"
      ]
     },
     "execution_count": 182,
     "metadata": {},
     "output_type": "execute_result"
    }
   ],
   "source": [
    "clf.score(sent_vectors_train, y_train)"
   ]
  },
  {
   "cell_type": "markdown",
   "metadata": {},
   "source": [
    "<h2> Hyper Parameter Tuning </h2>"
   ]
  },
  {
   "cell_type": "code",
   "execution_count": 183,
   "metadata": {},
   "outputs": [
    {
     "name": "stdout",
     "output_type": "stream",
     "text": [
      "Fitting 3 folds for each of 16 candidates, totalling 48 fits\n"
     ]
    },
    {
     "name": "stderr",
     "output_type": "stream",
     "text": [
      "[Parallel(n_jobs=1)]: Using backend SequentialBackend with 1 concurrent workers.\n",
      "[Parallel(n_jobs=1)]: Done  48 out of  48 | elapsed:  4.2min finished\n"
     ]
    },
    {
     "name": "stdout",
     "output_type": "stream",
     "text": [
      "Best HyperParameter:  {'C': 100, 'penalty': 'l1'}\n"
     ]
    }
   ],
   "source": [
    "clf = LogisticRegression()\n",
    "param_grid = {'C':[10**-5, 10**-4, 10**-3, 10**-2, 10**0, 10**2, 10**3, 10**4], 'penalty':['l1','l2']}\n",
    "gsv = GridSearchCV(clf,param_grid,verbose=1)\n",
    "gsv.fit(sent_vectors_train,y_train)\n",
    "print(\"Best HyperParameter: \",gsv.best_params_)"
   ]
  },
  {
   "cell_type": "markdown",
   "metadata": {},
   "source": [
    "<h2> Performance OF Model </h2>"
   ]
  },
  {
   "cell_type": "markdown",
   "metadata": {},
   "source": [
    "<h2> Train Data </h2>"
   ]
  },
  {
   "cell_type": "code",
   "execution_count": 184,
   "metadata": {},
   "outputs": [
    {
     "data": {
      "image/png": "[encoded data removed]",
      "text/plain": [
       "<Figure size 432x288 with 1 Axes>"
      ]
     },
     "metadata": {},
     "output_type": "display_data"
    },
    {
     "name": "stdout",
     "output_type": "stream",
     "text": [
      "====================================================================================================\n"
     ]
    }
   ],
   "source": [
    "train_auc = []\n",
    "cv_auc = []\n",
    "\n",
    "c = [10**-5, 10**-4, 10**-3, 10**-2, 10**0, 10**2, 10**3, 10**4]\n",
    "for i in c:\n",
    "    lr = LogisticRegression()\n",
    "    lr.fit(sent_vectors_train, y_train)\n",
    "   \n",
    "    y_train_pred =  lr.predict_proba(sent_vectors_train)[:,1]\n",
    "    y_cv_pred =  lr.predict_proba(sent_vectors_cv)[:,1]\n",
    "    train_fpr, train_tpr, thresholds = roc_curve(y_train, lr.predict_proba(sent_vectors_train)[:,1])\n",
    "    cv_fpr, cv_tpr, thresholds = roc_curve(y_cv, lr.predict_proba(sent_vectors_cv)[:,1])\n",
    "\n",
    "\n",
    "plt.plot(train_fpr, train_tpr, label=\"train AUC =\"+str(auc(train_fpr, train_tpr)))\n",
    "plt.scatter(train_fpr, train_tpr, label='Train AUC'+str(auc(train_fpr, train_tpr)))\n",
    "plt.plot(cv_fpr, cv_tpr, label=\"CV AUC =\"+str(auc(cv_fpr, cv_tpr)))    \n",
    "plt.scatter(cv_fpr, cv_tpr, label='CV AUC'+str(auc(cv_fpr, cv_tpr)))    \n",
    "plt.legend()\n",
    "plt.xlabel(\"C: hyperparameter\")\n",
    "plt.ylabel(\"AUC\")\n",
    "plt.title(\"ERROR PLOTS\")\n",
    "plt.show()\n",
    "print(\"=\"*100)"
   ]
  },
  {
   "cell_type": "markdown",
   "metadata": {},
   "source": [
    "<h2> Confusion Matrix For Train Data </h2>"
   ]
  },
  {
   "cell_type": "code",
   "execution_count": 60,
   "metadata": {},
   "outputs": [
    {
     "data": {
      "text/plain": [
       "<matplotlib.axes._subplots.AxesSubplot at 0x2a7110e0d68>"
      ]
     },
     "execution_count": 60,
     "metadata": {},
     "output_type": "execute_result"
    },
    {
     "data": {
      "image/png": "[encoded data removed]",
      "text/plain": [
       "<Figure size 432x288 with 2 Axes>"
      ]
     },
     "metadata": {},
     "output_type": "display_data"
    }
   ],
   "source": [
    "#https://github.com/cyanamous/Amazon-Food-Reviews-Analysis-and-Modelling/blob/master/2%20Amazon%20Food%20Re20KNNviews%20-%%20.ipynb\n",
    "import seaborn as sns\n",
    "lr = LogisticRegression(C= 100, penalty= 'l2')\n",
    "lr.fit(sent_vectors_train,y_train)\n",
    "y_pred = lr.predict(sent_vectors_train)\n",
    "cm = pd.DataFrame(confusion_matrix(y_train, y_pred), range(2),range(2))\n",
    "sns.set(font_scale=1.4)\n",
    "sns.heatmap(cm, annot=True,annot_kws={\"size\": 16}, fmt='g')"
   ]
  },
  {
   "cell_type": "markdown",
   "metadata": {},
   "source": [
    "<h2> Cross-Validation Data </h2>"
   ]
  },
  {
   "cell_type": "code",
   "execution_count": 186,
   "metadata": {},
   "outputs": [
    {
     "data": {
      "image/png": "[encoded data removed]",
      "text/plain": [
       "<Figure size 432x288 with 1 Axes>"
      ]
     },
     "metadata": {},
     "output_type": "display_data"
    },
    {
     "name": "stdout",
     "output_type": "stream",
     "text": [
      "====================================================================================================\n"
     ]
    }
   ],
   "source": [
    "train_auc = []\n",
    "cv_auc = []\n",
    "\n",
    "c = [10**-5, 10**-4, 10**-3, 10**-2, 10**0, 10**2, 10**3, 10**4]\n",
    "for i in c:\n",
    "    lr = LogisticRegression()\n",
    "    lr.fit(sent_vectors_cv, y_cv)\n",
    "   \n",
    "    y_train_pred =  lr.predict_proba(sent_vectors_cv)[:,1]\n",
    "    y_cv_pred =  lr.predict_proba(sent_vectors_train)[:,1]\n",
    "    cv_fpr, cv_tpr, thresholds = roc_curve(y_cv, lr.predict_proba(sent_vectors_cv)[:,1])\n",
    "    train_fpr, train_tpr, thresholds = roc_curve(y_train, lr.predict_proba(sent_vectors_train)[:,1])\n",
    "\n",
    "\n",
    "plt.plot(cv_fpr, cv_tpr, label=\"train AUC =\"+str(auc(train_fpr, train_tpr)))\n",
    "plt.scatter(cv_fpr, cv_tpr, label='Train AUC'+str(auc(train_fpr, train_tpr)))\n",
    "plt.plot(train_fpr, train_tpr, label=\"CV AUC =\"+str(auc(train_fpr, train_tpr)))    \n",
    "plt.scatter(train_fpr, train_tpr, label='CV AUC'+str(auc(train_fpr, train_tpr)))    \n",
    "plt.legend()\n",
    "plt.xlabel(\"C: hyperparameter\")\n",
    "plt.ylabel(\"AUC\")\n",
    "plt.title(\"ERROR PLOTS\")\n",
    "plt.show()\n",
    "print(\"=\"*100)"
   ]
  },
  {
   "cell_type": "markdown",
   "metadata": {},
   "source": [
    "<h2> Test Data </h2>"
   ]
  },
  {
   "cell_type": "code",
   "execution_count": 187,
   "metadata": {},
   "outputs": [
    {
     "data": {
      "image/png": "[encoded data removed]",
      "text/plain": [
       "<Figure size 432x288 with 1 Axes>"
      ]
     },
     "metadata": {},
     "output_type": "display_data"
    },
    {
     "name": "stdout",
     "output_type": "stream",
     "text": [
      "====================================================================================================\n"
     ]
    }
   ],
   "source": [
    "lr = LogisticRegression()\n",
    "lr.fit(sent_vectors_train, y_train)\n",
    "\n",
    "train_fpr, train_tpr, thresholds = roc_curve(y_train, lr.predict_proba(sent_vectors_train)[:,1])\n",
    "test_fpr, test_tpr, thresholds = roc_curve(y_test, lr.predict_proba(sent_vectors_test)[:,1])\n",
    "\n",
    "plt.plot(train_fpr, train_tpr, label=\"train AUC =\"+str(auc(train_fpr, train_tpr)))\n",
    "plt.plot(test_fpr, test_tpr, label=\"test AUC =\"+str(auc(test_fpr, test_tpr)))\n",
    "plt.legend()\n",
    "plt.xlabel(\"C: hyperparameter\")\n",
    "plt.ylabel(\"AUC\")\n",
    "plt.title(\"ERROR PLOTS\")\n",
    "plt.show()\n",
    "\n",
    "print(\"=\"*100)"
   ]
  },
  {
   "cell_type": "markdown",
   "metadata": {},
   "source": [
    "<h2> Confusion Matrix  For Test Data </h2>"
   ]
  },
  {
   "cell_type": "code",
   "execution_count": 61,
   "metadata": {},
   "outputs": [
    {
     "data": {
      "text/plain": [
       "<matplotlib.axes._subplots.AxesSubplot at 0x2a710f34278>"
      ]
     },
     "execution_count": 61,
     "metadata": {},
     "output_type": "execute_result"
    },
    {
     "data": {
      "image/png": "[encoded data removed]",
      "text/plain": [
       "<Figure size 432x288 with 2 Axes>"
      ]
     },
     "metadata": {},
     "output_type": "display_data"
    }
   ],
   "source": [
    "clf = LogisticRegression(C= 100, penalty= 'l2')\n",
    "clf.fit(sent_vectors_train,y_train)\n",
    "y_pred = clf.predict(sent_vectors_test)\n",
    "cm = pd.DataFrame(confusion_matrix(y_test, y_pred), range(2),range(2))\n",
    "sns.set(font_scale=1.4)\n",
    "sns.heatmap(cm, annot=True,annot_kws={\"size\": 16}, fmt='g')"
   ]
  },
  {
   "cell_type": "markdown",
   "metadata": {},
   "source": [
    "### AvgW2V Words "
   ]
  },
  {
   "cell_type": "markdown",
   "metadata": {},
   "source": [
    "<h2> Train Data </h2>"
   ]
  },
  {
   "cell_type": "code",
   "execution_count": 62,
   "metadata": {},
   "outputs": [
    {
     "name": "stderr",
     "output_type": "stream",
     "text": [
      "100%|██████████████████████████████████████████████████████████████████████████| 44890/44890 [2:45:09<00:00,  4.53it/s]\n"
     ]
    },
    {
     "name": "stdout",
     "output_type": "stream",
     "text": [
      "(44890, 50)\n",
      "[-1.32207866 -1.04842886  0.64064857 -0.6280736   1.04336646 -0.00922216\n",
      " -0.22173816  0.02742867  0.67114201  0.42777424 -0.42771868  2.25438424\n",
      " -0.37666007  0.8190864  -0.00805358 -0.70246006 -0.45183454 -0.76101701\n",
      "  0.10914156  0.24638367  0.42318085  0.71429604  0.57623587 -0.42930146\n",
      " -1.04356092 -0.4826405   0.19930768 -0.09112886  0.37575087 -0.81127529\n",
      "  0.2355651  -0.43527824  0.0105704  -0.99719149  0.73866351  1.38672636\n",
      " -0.33246536  0.62379534 -0.05171633 -0.01408278  0.92707349  0.1765605\n",
      " -0.49875856 -0.82269328  0.62149322 -0.02000601 -0.50321443 -0.68259518\n",
      "  0.25562387  0.1630869 ]\n"
     ]
    }
   ],
   "source": [
    "from tqdm import tqdm \n",
    "model = TfidfVectorizer()\n",
    "tf_idf_matrix = model.fit_transform(lr_ar['CleanedText'].values)\n",
    "\n",
    "dictionary = dict(zip(model.get_feature_names(), list(model.idf_)))\n",
    "\n",
    "\n",
    "tfidf_feat = model.get_feature_names()\n",
    "tfidf_sent_vectors_train = [];  \n",
    "row=0;\n",
    "for sent in tqdm(list_of_sentance_train):\n",
    "    sent_vec = np.zeros(50)\n",
    "    weight_sum =0;\n",
    "    for word in sent:\n",
    "        if word in w2v_words and word in tfidf_feat:\n",
    "            vec = w2v_model.wv[word]\n",
    "            tf_idf = dictionary[word]*(sent.count(word)/len(sent))  \n",
    "            sent_vec += (vec * tf_idf)\n",
    "            weight_sum += tf_idf\n",
    "    if weight_sum != 0:\n",
    "        sent_vec /= weight_sum\n",
    "    tfidf_sent_vectors_train.append(sent_vec)\n",
    "    row += 1\n",
    "    \n",
    "tfidf_sent_vectors_train = np.array(sent_vectors_train)\n",
    "print(tfidf_sent_vectors_train.shape)\n",
    "print(tfidf_sent_vectors_train[0])"
   ]
  },
  {
   "cell_type": "markdown",
   "metadata": {},
   "source": [
    "<h2> Cross-Validation Data </h2>"
   ]
  },
  {
   "cell_type": "code",
   "execution_count": 63,
   "metadata": {},
   "outputs": [
    {
     "name": "stderr",
     "output_type": "stream",
     "text": [
      "100%|████████████████████████████████████████████████████████████████████████████| 22110/22110 [28:10<00:00, 13.08it/s]\n"
     ]
    },
    {
     "name": "stdout",
     "output_type": "stream",
     "text": [
      "(22110, 50)\n",
      "[-7.56630281e-01 -1.92316175e-04  8.09186575e-01  3.34420459e-01\n",
      "  5.33577071e-01 -6.17481679e-01  3.70707988e-01 -5.32819531e-01\n",
      "  3.74631361e-01  1.06155191e+00 -1.88203322e-02  1.27262438e+00\n",
      " -5.12589458e-01  8.06501874e-01 -1.97442300e-01 -4.38824482e-01\n",
      "  3.64666998e-03 -4.91539681e-01 -3.19004697e-02 -5.24503014e-02\n",
      "  1.07515739e-01  7.26048004e-01  7.77407996e-01 -2.80754895e-01\n",
      " -8.41673829e-01 -2.12872653e-01  1.34885249e-01 -3.94692199e-01\n",
      "  9.42511541e-01 -3.66057699e-01  9.41113783e-03 -1.26406877e+00\n",
      "  2.05534485e-01 -6.08266403e-01  6.00560932e-01  1.11699247e-01\n",
      "  1.49277286e-01  2.47411836e-01 -6.22235906e-02  1.97117162e-02\n",
      "  2.09708598e-01 -4.12820609e-01 -4.83980998e-01 -4.72135152e-01\n",
      "  7.73818265e-02  5.49668069e-01 -4.90998309e-01 -9.13875721e-01\n",
      " -5.85470274e-02  3.19515030e-01]\n"
     ]
    }
   ],
   "source": [
    " \n",
    "model = TfidfVectorizer()\n",
    "tf_idf_matrix = model.fit_transform(lr_ar['CleanedText'].values)\n",
    "\n",
    "dictionary = dict(zip(model.get_feature_names(), list(model.idf_)))\n",
    "\n",
    "\n",
    "tfidf_feat = model.get_feature_names()\n",
    "tfidf_sent_vectors_cv = [];\n",
    "row=0;\n",
    "for sent in tqdm(list_of_sentance_cv):\n",
    "    sent_vec = np.zeros(50)\n",
    "    weight_sum =0;\n",
    "    for word in sent:\n",
    "        if word in w2v_words and word in tfidf_feat:\n",
    "            vec = w2v_model.wv[word]\n",
    "            tf_idf = dictionary[word]*(sent.count(word)/len(sent))  \n",
    "            sent_vec += (vec * tf_idf)\n",
    "            weight_sum += tf_idf\n",
    "    if weight_sum != 0:\n",
    "        sent_vec /= weight_sum \n",
    "    tfidf_sent_vectors_cv.append(sent_vec)\n",
    "    row += 1\n",
    "tfidf_sent_vectors_cv = np.array(sent_vectors_cv)\n",
    "print(tfidf_sent_vectors_cv.shape)\n",
    "print(tfidf_sent_vectors_cv[0])   "
   ]
  },
  {
   "cell_type": "markdown",
   "metadata": {},
   "source": [
    "<h2> Test Data </h2>"
   ]
  },
  {
   "cell_type": "code",
   "execution_count": 64,
   "metadata": {},
   "outputs": [
    {
     "name": "stderr",
     "output_type": "stream",
     "text": [
      "100%|████████████████████████████████████████████████████████████████████████████| 33000/33000 [47:36<00:00, 11.55it/s]\n"
     ]
    },
    {
     "name": "stdout",
     "output_type": "stream",
     "text": [
      "(33000, 50)\n",
      "[-0.51059914 -0.37174595  0.81321106 -0.54551895  0.10084489 -0.06353395\n",
      "  0.03433469 -0.19089737  0.59275537  0.33613082  0.15631533  1.39129289\n",
      "  0.18752261  0.21157296 -0.11073466 -0.13360631 -0.47795352 -0.34653222\n",
      "  0.43943535  0.04579974  0.8592431   0.46804279  0.95979614  0.46197947\n",
      " -0.45197898 -0.54565966  0.20984642 -0.08207642  0.02428278  0.08067978\n",
      " -0.46096137 -0.60966313  0.82873439 -0.79157455  0.44895283  1.42612153\n",
      "  0.6058865  -0.00953081  0.2791993  -0.24331216  0.3146742  -0.51012369\n",
      " -0.24938384 -0.53815669 -0.53337538 -0.45265483  0.25339597 -0.41216763\n",
      " -0.30203587  0.2808947 ]\n"
     ]
    }
   ],
   "source": [
    " \n",
    "model = TfidfVectorizer()\n",
    "tf_idf_matrix = model.fit_transform(lr_ar['CleanedText'].values)\n",
    "\n",
    "dictionary = dict(zip(model.get_feature_names(), list(model.idf_)))\n",
    "\n",
    "\n",
    "tfidf_feat = model.get_feature_names()\n",
    "tfidf_sent_vectors_test = [];\n",
    "row=0;\n",
    "for sent in tqdm(list_of_sentance_test):\n",
    "    \n",
    "    sent_vec = np.zeros(50)\n",
    "    weight_sum =0;\n",
    "    for word in sent:\n",
    "        if word in w2v_words and word in tfidf_feat:\n",
    "            vec = w2v_model.wv[word]\n",
    "            tf_idf = dictionary[word]*(sent.count(word)/len(sent))  \n",
    "            sent_vec += (vec * tf_idf)\n",
    "            weight_sum += tf_idf\n",
    "    if weight_sum != 0:\n",
    "        sent_vec /= weight_sum\n",
    "    tfidf_sent_vectors_test.append(sent_vec)\n",
    "    row += 1\n",
    "\n",
    "tfidf_sent_vectors_test = np.array(sent_vectors_test)\n",
    "print(tfidf_sent_vectors_test.shape)\n",
    "print(tfidf_sent_vectors_test[0])"
   ]
  },
  {
   "cell_type": "markdown",
   "metadata": {},
   "source": [
    "<h2> Applying Logistic Regression With Penalty L1 </h2>"
   ]
  },
  {
   "cell_type": "code",
   "execution_count": 192,
   "metadata": {},
   "outputs": [
    {
     "name": "stdout",
     "output_type": "stream",
     "text": [
      "[0 1 1 ... 1 1 1]\n"
     ]
    }
   ],
   "source": [
    "clf = LogisticRegression(penalty='l1', dual=False, tol=0.0001, C=1.0, fit_intercept=True, intercept_scaling=1, class_weight=None, random_state=None, solver='warn', max_iter=100, multi_class='warn', verbose=0, warm_start=False, n_jobs=None)\n",
    "clf.fit(tfidf_sent_vectors_train, y_train)\n",
    "\n",
    "pred_3 = clf.predict(tfidf_sent_vectors_train)\n",
    "print(pred_3)"
   ]
  },
  {
   "cell_type": "code",
   "execution_count": 193,
   "metadata": {},
   "outputs": [
    {
     "data": {
      "text/plain": [
       "array([[0.72110331, 0.27889669],\n",
       "       [0.04174794, 0.95825206],\n",
       "       [0.01223597, 0.98776403],\n",
       "       [0.07154936, 0.92845064],\n",
       "       [0.08798552, 0.91201448],\n",
       "       [0.07668369, 0.92331631],\n",
       "       [0.0739944 , 0.9260056 ],\n",
       "       [0.03213904, 0.96786096],\n",
       "       [0.4242008 , 0.5757992 ],\n",
       "       [0.00401675, 0.99598325],\n",
       "       [0.23257221, 0.76742779],\n",
       "       [0.07157533, 0.92842467],\n",
       "       [0.18816906, 0.81183094],\n",
       "       [0.01644311, 0.98355689],\n",
       "       [0.45047594, 0.54952406],\n",
       "       [0.03890366, 0.96109634],\n",
       "       [0.2116456 , 0.7883544 ],\n",
       "       [0.22490503, 0.77509497],\n",
       "       [0.00788825, 0.99211175],\n",
       "       [0.13277741, 0.86722259],\n",
       "       [0.1031887 , 0.8968113 ],\n",
       "       [0.11069597, 0.88930403],\n",
       "       [0.13572718, 0.86427282],\n",
       "       [0.22137083, 0.77862917],\n",
       "       [0.13184937, 0.86815063],\n",
       "       [0.06850126, 0.93149874],\n",
       "       [0.18719371, 0.81280629],\n",
       "       [0.04494739, 0.95505261],\n",
       "       [0.10469675, 0.89530325],\n",
       "       [0.22258726, 0.77741274]])"
      ]
     },
     "execution_count": 193,
     "metadata": {},
     "output_type": "execute_result"
    }
   ],
   "source": [
    "clf.predict_proba(tfidf_sent_vectors_train)[0:30]"
   ]
  },
  {
   "cell_type": "code",
   "execution_count": 194,
   "metadata": {},
   "outputs": [
    {
     "data": {
      "text/plain": [
       "0.8609935397638673"
      ]
     },
     "execution_count": 194,
     "metadata": {},
     "output_type": "execute_result"
    }
   ],
   "source": [
    "clf.score(tfidf_sent_vectors_train, y_train)"
   ]
  },
  {
   "cell_type": "code",
   "execution_count": 195,
   "metadata": {},
   "outputs": [
    {
     "data": {
      "text/plain": [
       "0.5958188303193559"
      ]
     },
     "execution_count": 195,
     "metadata": {},
     "output_type": "execute_result"
    }
   ],
   "source": [
    "roc_auc_score(y_train, pred_3)"
   ]
  },
  {
   "cell_type": "markdown",
   "metadata": {},
   "source": [
    "<h2> Logistic Regression With Penalty L2 </h2>"
   ]
  },
  {
   "cell_type": "code",
   "execution_count": 196,
   "metadata": {},
   "outputs": [
    {
     "data": {
      "text/plain": [
       "array([0, 1, 1, ..., 1, 1, 1], dtype=int64)"
      ]
     },
     "execution_count": 196,
     "metadata": {},
     "output_type": "execute_result"
    }
   ],
   "source": [
    "clf = LogisticRegression(penalty='l1', dual=False, tol=0.0001, C=1.0, fit_intercept=True, intercept_scaling=1, class_weight=None, random_state=None, solver='warn', max_iter=100, multi_class='warn', verbose=0, warm_start=False, n_jobs=None)\n",
    "clf.fit(tfidf_sent_vectors_train, y_train)\n",
    "\n",
    "clf.predict(tfidf_sent_vectors_train)"
   ]
  },
  {
   "cell_type": "code",
   "execution_count": 197,
   "metadata": {},
   "outputs": [
    {
     "data": {
      "text/plain": [
       "0.8609935397638673"
      ]
     },
     "execution_count": 197,
     "metadata": {},
     "output_type": "execute_result"
    }
   ],
   "source": [
    "clf.score(tfidf_sent_vectors_train, y_train)"
   ]
  },
  {
   "cell_type": "markdown",
   "metadata": {},
   "source": [
    "<h2> Hyper Parameter Tuning </h2>"
   ]
  },
  {
   "cell_type": "code",
   "execution_count": 198,
   "metadata": {},
   "outputs": [
    {
     "name": "stdout",
     "output_type": "stream",
     "text": [
      "Fitting 3 folds for each of 16 candidates, totalling 48 fits\n"
     ]
    },
    {
     "name": "stderr",
     "output_type": "stream",
     "text": [
      "[Parallel(n_jobs=1)]: Using backend SequentialBackend with 1 concurrent workers.\n",
      "[Parallel(n_jobs=1)]: Done  48 out of  48 | elapsed:  4.5min finished\n"
     ]
    },
    {
     "name": "stdout",
     "output_type": "stream",
     "text": [
      "Best HyperParameter:  {'C': 100, 'penalty': 'l1'}\n"
     ]
    }
   ],
   "source": [
    "clf = LogisticRegression()\n",
    "param_grid = {'C':[10**-5, 10**-4, 10**-3, 10**-2, 10**0, 10**2, 10**3, 10**4], 'penalty':['l1','l2']}\n",
    "gsv = GridSearchCV(clf,param_grid,verbose=1)\n",
    "gsv.fit(tfidf_sent_vectors_train,y_train)\n",
    "print(\"Best HyperParameter: \",gsv.best_params_)\n"
   ]
  },
  {
   "cell_type": "markdown",
   "metadata": {},
   "source": [
    "<h2> Performance Of Model </h2>"
   ]
  },
  {
   "cell_type": "markdown",
   "metadata": {},
   "source": [
    "<h2> Train Data </h2>"
   ]
  },
  {
   "cell_type": "code",
   "execution_count": 199,
   "metadata": {},
   "outputs": [
    {
     "data": {
      "image/png": "[encoded data removed]",
      "text/plain": [
       "<Figure size 432x288 with 1 Axes>"
      ]
     },
     "metadata": {},
     "output_type": "display_data"
    },
    {
     "name": "stdout",
     "output_type": "stream",
     "text": [
      "====================================================================================================\n"
     ]
    }
   ],
   "source": [
    "train_auc = []\n",
    "cv_auc = []\n",
    "\n",
    "c = [10**-5, 10**-4, 10**-3, 10**-2, 10**0, 10**2, 10**3, 10**4]\n",
    "for i in c:\n",
    "    lr = LogisticRegression()\n",
    "    lr.fit(tfidf_sent_vectors_train, y_train)\n",
    "   \n",
    "    y_train_pred =  lr.predict_proba(tfidf_sent_vectors_train)[:,1]\n",
    "    y_cv_pred =  lr.predict_proba(tfidf_sent_vectors_cv)[:,1]\n",
    "    train_fpr, train_tpr, thresholds = roc_curve(y_train, lr.predict_proba(tfidf_sent_vectors_train)[:,1])\n",
    "    cv_fpr, cv_tpr, thresholds = roc_curve(y_cv, lr.predict_proba(tfidf_sent_vectors_cv)[:,1])\n",
    "\n",
    "\n",
    "plt.plot(train_fpr, train_tpr, label=\"train AUC =\"+str(auc(train_fpr, train_tpr)))\n",
    "plt.scatter(train_fpr, train_tpr, label='Train AUC'+str(auc(train_fpr, train_tpr)))\n",
    "plt.plot(cv_fpr, cv_tpr, label=\"CV AUC =\"+str(auc(cv_fpr, cv_tpr)))    \n",
    "plt.scatter(cv_fpr, cv_tpr, label='CV AUC'+str(auc(cv_fpr, cv_tpr)))    \n",
    "plt.legend()\n",
    "plt.xlabel(\"C: hyperparameter\")\n",
    "plt.ylabel(\"AUC\")\n",
    "plt.title(\"ERROR PLOTS\")\n",
    "plt.show()\n",
    "print(\"=\"*100)"
   ]
  },
  {
   "cell_type": "markdown",
   "metadata": {},
   "source": [
    "<h2> Confusion Matrix For Train Data </h2>"
   ]
  },
  {
   "cell_type": "code",
   "execution_count": 65,
   "metadata": {},
   "outputs": [
    {
     "data": {
      "text/plain": [
       "<matplotlib.axes._subplots.AxesSubplot at 0x2a7142988d0>"
      ]
     },
     "execution_count": 65,
     "metadata": {},
     "output_type": "execute_result"
    },
    {
     "data": {
      "image/png": "[encoded data removed]",
      "text/plain": [
       "<Figure size 432x288 with 2 Axes>"
      ]
     },
     "metadata": {},
     "output_type": "display_data"
    }
   ],
   "source": [
    "#https://github.com/cyanamous/Amazon-Food-Reviews-Analysis-and-Modelling/blob/master/2%20Amazon%20Food%20Re20KNNviews%20-%%20.ipynb\n",
    "import seaborn as sns\n",
    "lr = LogisticRegression(C= 100, penalty= 'l2')\n",
    "lr.fit(tfidf_sent_vectors_train,y_train)\n",
    "y_pred = lr.predict(tfidf_sent_vectors_train)\n",
    "cm = pd.DataFrame(confusion_matrix(y_train, y_pred), range(2),range(2))\n",
    "sns.set(font_scale=1.4)\n",
    "sns.heatmap(cm, annot=True,annot_kws={\"size\": 16}, fmt='g')"
   ]
  },
  {
   "cell_type": "markdown",
   "metadata": {},
   "source": [
    "<h2> Cross-Validation For Data </h2>"
   ]
  },
  {
   "cell_type": "code",
   "execution_count": 201,
   "metadata": {},
   "outputs": [
    {
     "data": {
      "image/png": "[encoded data removed]",
      "text/plain": [
       "<Figure size 432x288 with 1 Axes>"
      ]
     },
     "metadata": {},
     "output_type": "display_data"
    },
    {
     "name": "stdout",
     "output_type": "stream",
     "text": [
      "====================================================================================================\n"
     ]
    }
   ],
   "source": [
    "train_auc = []\n",
    "cv_auc = []\n",
    "\n",
    "c = [10**-5, 10**-4, 10**-3, 10**-2, 10**0, 10**2, 10**3, 10**4]\n",
    "for i in c:\n",
    "    lr = LogisticRegression()\n",
    "    lr.fit(sent_vectors_cv, y_cv)\n",
    "   \n",
    "    y_train_pred =  lr.predict_proba(tfidf_sent_vectors_cv)[:,1]\n",
    "    y_cv_pred =  lr.predict_proba(tfidf_sent_vectors_train)[:,1]\n",
    "    cv_fpr, cv_tpr, thresholds = roc_curve(y_cv, lr.predict_proba(tfidf_sent_vectors_cv)[:,1])\n",
    "    train_fpr, train_tpr, thresholds = roc_curve(y_train, lr.predict_proba(tfidf_sent_vectors_train)[:,1])\n",
    "\n",
    "\n",
    "plt.plot(cv_fpr, cv_tpr, label=\"train AUC =\"+str(auc(train_fpr, train_tpr)))\n",
    "plt.scatter(cv_fpr, cv_tpr, label='Train AUC'+str(auc(train_fpr, train_tpr)))\n",
    "plt.plot(train_fpr, train_tpr, label=\"CV AUC =\"+str(auc(train_fpr, train_tpr)))    \n",
    "plt.scatter(train_fpr, train_tpr, label='CV AUC'+str(auc(train_fpr, train_tpr)))    \n",
    "plt.legend()\n",
    "plt.xlabel(\"C: hyperparameter\")\n",
    "plt.ylabel(\"AUC\")\n",
    "plt.title(\"ERROR PLOTS\")\n",
    "plt.show()\n",
    "print(\"=\"*100)"
   ]
  },
  {
   "cell_type": "markdown",
   "metadata": {},
   "source": [
    "<h2> Test Data </h2>"
   ]
  },
  {
   "cell_type": "code",
   "execution_count": 202,
   "metadata": {},
   "outputs": [
    {
     "data": {
      "image/png": "[encoded data removed]",
      "text/plain": [
       "<Figure size 432x288 with 1 Axes>"
      ]
     },
     "metadata": {},
     "output_type": "display_data"
    },
    {
     "name": "stdout",
     "output_type": "stream",
     "text": [
      "====================================================================================================\n"
     ]
    }
   ],
   "source": [
    "lr = LogisticRegression()\n",
    "lr.fit(tfidf_sent_vectors_train, y_train)\n",
    "\n",
    "train_fpr, train_tpr, thresholds = roc_curve(y_train, lr.predict_proba(tfidf_sent_vectors_train)[:,1])\n",
    "test_fpr, test_tpr, thresholds = roc_curve(y_test, lr.predict_proba(tfidf_sent_vectors_test)[:,1])\n",
    "\n",
    "plt.plot(train_fpr, train_tpr, label=\"train AUC =\"+str(auc(train_fpr, train_tpr)))\n",
    "plt.plot(test_fpr, test_tpr, label=\"test AUC =\"+str(auc(test_fpr, test_tpr)))\n",
    "plt.legend()\n",
    "plt.xlabel(\"C: hyperparameter\")\n",
    "plt.ylabel(\"AUC\")\n",
    "plt.title(\"ERROR PLOTS\")\n",
    "plt.show()\n",
    "\n",
    "print(\"=\"*100)\n",
    "\n"
   ]
  },
  {
   "cell_type": "markdown",
   "metadata": {},
   "source": [
    "<h2>  Confusion Matrix For Test Data </h2>"
   ]
  },
  {
   "cell_type": "code",
   "execution_count": 66,
   "metadata": {},
   "outputs": [
    {
     "data": {
      "text/plain": [
       "<matplotlib.axes._subplots.AxesSubplot at 0x2a71107a4a8>"
      ]
     },
     "execution_count": 66,
     "metadata": {},
     "output_type": "execute_result"
    },
    {
     "data": {
      "image/png": "[encoded data removed]",
      "text/plain": [
       "<Figure size 432x288 with 2 Axes>"
      ]
     },
     "metadata": {},
     "output_type": "display_data"
    }
   ],
   "source": [
    "lr = LogisticRegression(C= 100, penalty= 'l2')\n",
    "lr.fit(tfidf_sent_vectors_test,y_test)\n",
    "y_pred = lr.predict(tfidf_sent_vectors_test)\n",
    "cm = pd.DataFrame(confusion_matrix(y_test, y_pred), range(2),range(2))\n",
    "sns.set(font_scale=1.4)\n",
    "sns.heatmap(cm, annot=True,annot_kws={\"size\": 16}, fmt='g')"
   ]
  },
  {
   "cell_type": "markdown",
   "metadata": {},
   "source": [
    "<h2> Conclusion Table </h2>"
   ]
  },
  {
   "cell_type": "code",
   "execution_count": 67,
   "metadata": {},
   "outputs": [
    {
     "name": "stdout",
     "output_type": "stream",
     "text": [
      "+--------+------------+----------------------+--------------------+-----------+----------+---------+\n",
      "|  Set   | Vectorizer |       Model 1        | Hyper Parameter(C) | Train_AUC | Test_AUC | ROC_AUC |\n",
      "+--------+------------+----------------------+--------------------+-----------+----------+---------+\n",
      "| Set:-1 |    BOW     | Logistic_Regression  |         1          |    0.99   |   0.99   |   0.88  |\n",
      "| Set:-2 |   TFIDF    | Logistic_Regression  |         1          |    0.96   |   0.99   |   0.76  |\n",
      "| Set:-5 |    W2V     | Logistic_Regression  |        100         |   84.15   |   0.84   |   0.59  |\n",
      "| Set:-6 |  TFIDFW2V  | Logistic_Regression  |        100         |    0.84   |   0.83   |   0.59  |\n",
      "+--------+------------+----------------------+--------------------+-----------+----------+---------+\n"
     ]
    }
   ],
   "source": [
    "from prettytable import PrettyTable\n",
    "    \n",
    "x = PrettyTable()\n",
    "\n",
    "x.field_names = [\"Set\", \"Vectorizer\", \"Model 1\", \"Hyper Parameter(C)\", \"Train_AUC\", \"Test_AUC\", \"ROC_AUC\"]\n",
    "\n",
    "x.add_row([\"Set:-1\", \"BOW\", \"Logistic_Regression \", 1, 0.99, 0.99, 0.88])\n",
    "x.add_row([\"Set:-2\", \"TFIDF\", \"Logistic_Regression\", 1, 0.96, 0.99, 0.76])\n",
    "x.add_row([\"Set:-5\", \"W2V\", \"Logistic_Regression\", 100, 84.15, 0.84, 0.59])\n",
    "x.add_row([\"Set:-6\", \"TFIDFW2V\", \"Logistic_Regression\", 100, 0.84, 0.83, 0.59])\n",
    "\n",
    "print(x)"
   ]
  },
  {
   "cell_type": "markdown",
   "metadata": {},
   "source": [
    "<h2> Conclusion </h2>"
   ]
  },
  {
   "cell_type": "markdown",
   "metadata": {},
   "source": [
    "1. I loaded a amazon fine  food reviews and after that i change score in 0 and 1 where 1 represent positive reviews and  0 represent negative reviews.\n",
    "2. Then i split whole datapoints into 3parts Train Data , TestData And Cross-validation data.\n",
    "3. Then i used this splited datapoint for featurization BOW, TF_IDF, W2Vec , AvgW2Vec featurization .\n",
    "4. Then i used only Train data to avoid dataleakage. and i applied logistic Regression with L1 and L2 in train data \n",
    "6. Then i did Pertubation Testing(where we add extra random values in weight and then applied logistic regression on create weught and added values weight after that we calculate :-{w1-w2/w2}*2 the values) and sparsity using logistic regression,\n",
    "6. Then i find Hyper Parameter Tuning where i found best Hyper Parameter tuning, best Accurancy through GridSerch cross-validation in logistic regression.\n",
    "7. Then i find feature Importance in logistic Regression where i found top 10 positive and nagative features names in it.\n",
    "8. Then i ploted Performance of model in train data and test and cross-validation data using logistic regression.\n",
    "9. Then i caculate confusion matrix where i try to find how many data points are actually positive and negative and how many are predicated datapoint in it.\n",
    "10. Then  i created Conclusion table using pretty table for 4 featurization where i show the values of best hyper parameter, train_AUC, Test_AUC values in table for all 4 featurization."
   ]
  },
  {
   "cell_type": "markdown",
   "metadata": {},
   "source": [
    " <h2>========================================================================== </h2>"
   ]
  }
 ],
 "metadata": {
  "kernelspec": {
   "display_name": "Python 3 (ipykernel)",
   "language": "python",
   "name": "python3"
  },
  "language_info": {
   "codemirror_mode": {
    "name": "ipython",
    "version": 3
   },
   "file_extension": ".py",
   "mimetype": "text/x-python",
   "name": "python",
   "nbconvert_exporter": "python",
   "pygments_lexer": "ipython3",
   "version": "3.9.12"
  }
 },
 "nbformat": 4,
 "nbformat_minor": 2
}
