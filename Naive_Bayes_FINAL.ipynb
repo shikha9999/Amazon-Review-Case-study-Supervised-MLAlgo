{
 "cells": [
  {
   "cell_type": "markdown",
   "metadata": {},
   "source": [
    "<h2> Loading Amanzon Fine Food Reviews Data </h2>"
   ]
  },
  {
   "cell_type": "code",
   "execution_count": 30,
   "metadata": {},
   "outputs": [],
   "source": [
    "import numpy as np\n",
    "import pandas as pd\n",
    "import matplotlib.pyplot as plt\n",
    "%matplotlib inline\n",
    "import warnings\n",
    "warnings.filterwarnings(\"ignore\")\n",
    "\n",
    "import sqlite3\n",
    "import nltk\n",
    "import string\n",
    "import seaborn\n",
    "import re\n",
    "import string as sns  # Tutorial about Python regular expressions: https://pymotw.com/2/re/\n",
    "import pickle\n",
    "import os\n",
    "\n",
    "from sklearn.metrics import roc_auc_score\n",
    "from sklearn.neighbors import KNeighborsClassifier\n",
    "from sklearn.metrics import accuracy_score\n",
    "from sklearn.metrics import confusion_matrix\n",
    "from collections import Counter \n",
    "from sklearn.metrics import accuracy_score\n",
    "from sklearn.naive_bayes import MultinomialNB\n",
    "from sklearn.naive_bayes import MultinomialNB\n",
    "from bs4 import BeautifulSoup\n",
    "from sklearn.model_selection import train_test_split\n",
    "from sklearn.neighbors import KNeighborsClassifier\n",
    "from sklearn.metrics import accuracy_score\n",
    "from sklearn.model_selection import cross_val_score\n",
    "from collections import Counter \n",
    "from sklearn.metrics import accuracy_score\n",
    "from sklearn import model_selection\n",
    "from sklearn.feature_extraction.text import TfidfTransformer\n",
    "from sklearn.feature_extraction.text import TfidfVectorizer\n",
    "from sklearn.feature_extraction.text import CountVectorizer\n",
    "from sklearn.metrics import confusion_matrix\n",
    "from sklearn import metrics\n",
    "from sklearn.metrics import roc_curve, auc\n",
    "from nltk.stem.porter import PorterStemmer\n",
    "from nltk.corpus import stopwords\n",
    "from nltk.stem import PorterStemmer\n",
    "from nltk.stem.wordnet import WordNetLemmatizer\n",
    "from gensim.models import Word2Vec\n",
    "from gensim.models import KeyedVectors\n",
    "from tqdm import tqdm\n",
    "\n"
   ]
  },
  {
   "cell_type": "markdown",
   "metadata": {},
   "source": [
    "<h2> Reading Data </h2>"
   ]
  },
  {
   "cell_type": "code",
   "execution_count": 31,
   "metadata": {},
   "outputs": [
    {
     "data": {
      "text/plain": [
       "(100000, 10)"
      ]
     },
     "execution_count": 31,
     "metadata": {},
     "output_type": "execute_result"
    }
   ],
   "source": [
    "naivebayes_ar = pd.read_csv('Reviews.csv', nrows=100000) #100K datapoint\n",
    "naivebayes_ar.shape"
   ]
  },
  {
   "cell_type": "code",
   "execution_count": 32,
   "metadata": {},
   "outputs": [
    {
     "name": "stdout",
     "output_type": "stream",
     "text": [
      "Number of data points in our data (100000, 10)\n"
     ]
    }
   ],
   "source": [
    "def partition(x):\n",
    "    if x < 3:\n",
    "        return 0\n",
    "    return 1\n",
    "\n",
    "actualScore = naivebayes_ar['Score']\n",
    "positiveNegative = actualScore.map(partition) \n",
    "naivebayes_ar['Score'] = positiveNegative\n",
    "print(\"Number of data points in our data\", naivebayes_ar.shape)"
   ]
  },
  {
   "cell_type": "code",
   "execution_count": 33,
   "metadata": {},
   "outputs": [
    {
     "data": {
      "text/html": [
       "<div>\n",
       "<style scoped>\n",
       "    .dataframe tbody tr th:only-of-type {\n",
       "        vertical-align: middle;\n",
       "    }\n",
       "\n",
       "    .dataframe tbody tr th {\n",
       "        vertical-align: top;\n",
       "    }\n",
       "\n",
       "    .dataframe thead th {\n",
       "        text-align: right;\n",
       "    }\n",
       "</style>\n",
       "<table border=\"1\" class=\"dataframe\">\n",
       "  <thead>\n",
       "    <tr style=\"text-align: right;\">\n",
       "      <th></th>\n",
       "      <th>Id</th>\n",
       "      <th>ProductId</th>\n",
       "      <th>UserId</th>\n",
       "      <th>ProfileName</th>\n",
       "      <th>HelpfulnessNumerator</th>\n",
       "      <th>HelpfulnessDenominator</th>\n",
       "      <th>Score</th>\n",
       "      <th>Time</th>\n",
       "      <th>Summary</th>\n",
       "      <th>Text</th>\n",
       "    </tr>\n",
       "  </thead>\n",
       "  <tbody>\n",
       "    <tr>\n",
       "      <th>0</th>\n",
       "      <td>1</td>\n",
       "      <td>B001E4KFG0</td>\n",
       "      <td>A3SGXH7AUHU8GW</td>\n",
       "      <td>delmartian</td>\n",
       "      <td>1</td>\n",
       "      <td>1</td>\n",
       "      <td>1</td>\n",
       "      <td>1303862400</td>\n",
       "      <td>Good Quality Dog Food</td>\n",
       "      <td>I have bought several of the Vitality canned d...</td>\n",
       "    </tr>\n",
       "    <tr>\n",
       "      <th>1</th>\n",
       "      <td>2</td>\n",
       "      <td>B00813GRG4</td>\n",
       "      <td>A1D87F6ZCVE5NK</td>\n",
       "      <td>dll pa</td>\n",
       "      <td>0</td>\n",
       "      <td>0</td>\n",
       "      <td>0</td>\n",
       "      <td>1346976000</td>\n",
       "      <td>Not as Advertised</td>\n",
       "      <td>Product arrived labeled as Jumbo Salted Peanut...</td>\n",
       "    </tr>\n",
       "    <tr>\n",
       "      <th>2</th>\n",
       "      <td>3</td>\n",
       "      <td>B000LQOCH0</td>\n",
       "      <td>ABXLMWJIXXAIN</td>\n",
       "      <td>Natalia Corres \"Natalia Corres\"</td>\n",
       "      <td>1</td>\n",
       "      <td>1</td>\n",
       "      <td>1</td>\n",
       "      <td>1219017600</td>\n",
       "      <td>\"Delight\" says it all</td>\n",
       "      <td>This is a confection that has been around a fe...</td>\n",
       "    </tr>\n",
       "    <tr>\n",
       "      <th>3</th>\n",
       "      <td>4</td>\n",
       "      <td>B000UA0QIQ</td>\n",
       "      <td>A395BORC6FGVXV</td>\n",
       "      <td>Karl</td>\n",
       "      <td>3</td>\n",
       "      <td>3</td>\n",
       "      <td>0</td>\n",
       "      <td>1307923200</td>\n",
       "      <td>Cough Medicine</td>\n",
       "      <td>If you are looking for the secret ingredient i...</td>\n",
       "    </tr>\n",
       "    <tr>\n",
       "      <th>4</th>\n",
       "      <td>5</td>\n",
       "      <td>B006K2ZZ7K</td>\n",
       "      <td>A1UQRSCLF8GW1T</td>\n",
       "      <td>Michael D. Bigham \"M. Wassir\"</td>\n",
       "      <td>0</td>\n",
       "      <td>0</td>\n",
       "      <td>1</td>\n",
       "      <td>1350777600</td>\n",
       "      <td>Great taffy</td>\n",
       "      <td>Great taffy at a great price.  There was a wid...</td>\n",
       "    </tr>\n",
       "  </tbody>\n",
       "</table>\n",
       "</div>"
      ],
      "text/plain": [
       "   Id   ProductId          UserId                      ProfileName  \\\n",
       "0   1  B001E4KFG0  A3SGXH7AUHU8GW                       delmartian   \n",
       "1   2  B00813GRG4  A1D87F6ZCVE5NK                           dll pa   \n",
       "2   3  B000LQOCH0   ABXLMWJIXXAIN  Natalia Corres \"Natalia Corres\"   \n",
       "3   4  B000UA0QIQ  A395BORC6FGVXV                             Karl   \n",
       "4   5  B006K2ZZ7K  A1UQRSCLF8GW1T    Michael D. Bigham \"M. Wassir\"   \n",
       "\n",
       "   HelpfulnessNumerator  HelpfulnessDenominator  Score        Time  \\\n",
       "0                     1                       1      1  1303862400   \n",
       "1                     0                       0      0  1346976000   \n",
       "2                     1                       1      1  1219017600   \n",
       "3                     3                       3      0  1307923200   \n",
       "4                     0                       0      1  1350777600   \n",
       "\n",
       "                 Summary                                               Text  \n",
       "0  Good Quality Dog Food  I have bought several of the Vitality canned d...  \n",
       "1      Not as Advertised  Product arrived labeled as Jumbo Salted Peanut...  \n",
       "2  \"Delight\" says it all  This is a confection that has been around a fe...  \n",
       "3         Cough Medicine  If you are looking for the secret ingredient i...  \n",
       "4            Great taffy  Great taffy at a great price.  There was a wid...  "
      ]
     },
     "execution_count": 33,
     "metadata": {},
     "output_type": "execute_result"
    }
   ],
   "source": [
    "naivebayes_ar.head()"
   ]
  },
  {
   "cell_type": "code",
   "execution_count": 34,
   "metadata": {},
   "outputs": [],
   "source": [
    "#Sorting data according to ProductId in ascending order\n",
    "sorted_data=naivebayes_ar.sort_values('ProductId', axis=0, ascending=True, inplace=False, kind='quicksort', na_position='last')"
   ]
  },
  {
   "cell_type": "code",
   "execution_count": 35,
   "metadata": {},
   "outputs": [
    {
     "data": {
      "text/plain": [
       "(88463, 10)"
      ]
     },
     "execution_count": 35,
     "metadata": {},
     "output_type": "execute_result"
    }
   ],
   "source": [
    "#Deduplication of entries\n",
    "final=sorted_data.drop_duplicates(subset={\"UserId\",\"ProfileName\",\"Time\",\"Text\"}, keep='first', inplace=False)\n",
    "final.shape"
   ]
  },
  {
   "cell_type": "code",
   "execution_count": 36,
   "metadata": {},
   "outputs": [
    {
     "data": {
      "text/plain": [
       "88.46300000000001"
      ]
     },
     "execution_count": 36,
     "metadata": {},
     "output_type": "execute_result"
    }
   ],
   "source": [
    "#Checking to see how much % of data still remains\n",
    "(final['Id'].size*1.0)/(naivebayes_ar['Id'].size*1.0)*100"
   ]
  },
  {
   "cell_type": "code",
   "execution_count": 37,
   "metadata": {},
   "outputs": [],
   "source": [
    "final=final[final.HelpfulnessNumerator<=final.HelpfulnessDenominator]"
   ]
  },
  {
   "cell_type": "code",
   "execution_count": 38,
   "metadata": {},
   "outputs": [
    {
     "name": "stdout",
     "output_type": "stream",
     "text": [
      "(88461, 10)\n"
     ]
    },
    {
     "data": {
      "text/plain": [
       "1    75313\n",
       "0    13148\n",
       "Name: Score, dtype: int64"
      ]
     },
     "execution_count": 38,
     "metadata": {},
     "output_type": "execute_result"
    }
   ],
   "source": [
    "#Before starting the next phase of preprocessing lets see the number of entries left\n",
    "print(final.shape)\n",
    "\n",
    "#How many positive and negative reviews are present in our dataset?\n",
    "final['Score'].value_counts()"
   ]
  },
  {
   "cell_type": "markdown",
   "metadata": {},
   "source": [
    "#  Featurization"
   ]
  },
  {
   "cell_type": "code",
   "execution_count": 39,
   "metadata": {},
   "outputs": [],
   "source": [
    "x = naivebayes_ar['Text'].values\n",
    "y= naivebayes_ar['Score'].values"
   ]
  },
  {
   "cell_type": "markdown",
   "metadata": {},
   "source": [
    "##  BAG OF WORDS"
   ]
  },
  {
   "cell_type": "code",
   "execution_count": 40,
   "metadata": {},
   "outputs": [
    {
     "name": "stdout",
     "output_type": "stream",
     "text": [
      "(44890,) (44890,)\n",
      "(22110,) (22110,)\n",
      "(33000,) (33000,)\n",
      "====================================================================================================\n",
      "After vectorizations\n",
      "(44890, 719446) (44890,)\n",
      "(22110, 719446) (22110,)\n",
      "(33000, 719446) (33000,)\n",
      "====================================================================================================\n"
     ]
    }
   ],
   "source": [
    "# https://scikit-learn.org/stable/modules/generated/sklearn.model_selection.train_test_split.html\n",
    "from sklearn.model_selection import train_test_split\n",
    "\n",
    "X_train, X_test, y_train, y_test = train_test_split(x, y, test_size=0.33) \n",
    "X_train, X_cv, y_train, y_cv = train_test_split(X_train, y_train, test_size=0.33) \n",
    "\n",
    "\n",
    "print(X_train.shape, y_train.shape)\n",
    "print(X_cv.shape, y_cv.shape)\n",
    "print(X_test.shape, y_test.shape)\n",
    "\n",
    "print(\"=\"*100)\n",
    "\n",
    "from sklearn.feature_extraction.text import CountVectorizer\n",
    "vectorizer = CountVectorizer(ngram_range=(1,2))\n",
    "vectorizer.fit(X_train) \n",
    "X_train_bow = vectorizer.transform(X_train)\n",
    "X_cv_bow = vectorizer.transform(X_cv)\n",
    "X_test_bow = vectorizer.transform(X_test)\n",
    "\n",
    "print(\"After vectorizations\")\n",
    "print(X_train_bow.shape, y_train.shape)\n",
    "print(X_cv_bow.shape, y_cv.shape)\n",
    "print(X_test_bow.shape, y_test.shape)\n",
    "print(\"=\"*100)"
   ]
  },
  {
   "cell_type": "markdown",
   "metadata": {},
   "source": [
    "<h2> Applying Mutlinomial Naive Bayes </h2> "
   ]
  },
  {
   "cell_type": "code",
   "execution_count": 51,
   "metadata": {},
   "outputs": [
    {
     "name": "stdout",
     "output_type": "stream",
     "text": [
      "[0 1 1 ... 1 1 0]\n",
      "[[-9.38354674e-07 -1.38791383e+01]\n",
      " [-4.37357970e+01  0.00000000e+00]\n",
      " [-2.87731859e+01 -3.41060513e-13]\n",
      " [-2.73459399e+01 -1.36424205e-12]\n",
      " [-1.62778604e+01 -8.52344328e-08]\n",
      " [-6.60114031e+01  0.00000000e+00]\n",
      " [-5.41310447e+01  0.00000000e+00]\n",
      " [-1.85846000e+02  0.00000000e+00]\n",
      " [-1.03410024e+00 -4.39352055e-01]\n",
      " [-4.52149261e+01  0.00000000e+00]]\n"
     ]
    }
   ],
   "source": [
    "#https://scikit-learn.org/stable/modules/generated/sklearn.naive_bayes.MultinomialNB.html\n",
    "import numpy as np\n",
    "from sklearn.naive_bayes import MultinomialNB\n",
    "clf = MultinomialNB()\n",
    "clf.fit(X_train_bow, y_train)\n",
    "MultinomialNB(alpha=1.0, class_prior=None, fit_prior=True)\n",
    "pred = clf.predict(X_train_bow)\n",
    "print(pred)\n",
    "print(clf.predict_log_proba(X_train_bow)[0:10])"
   ]
  },
  {
   "cell_type": "code",
   "execution_count": 52,
   "metadata": {},
   "outputs": [
    {
     "data": {
      "text/plain": [
       "array([[ -9.6501111 , -14.42923459, -14.42923459, ..., -13.73608741,\n",
       "        -13.73608741, -14.42923459],\n",
       "       [ -9.85629112, -14.99208955, -14.58662445, ..., -15.68523674,\n",
       "        -15.68523674, -14.99208955]])"
      ]
     },
     "execution_count": 52,
     "metadata": {},
     "output_type": "execute_result"
    }
   ],
   "source": [
    "clf.feature_log_prob_"
   ]
  },
  {
   "cell_type": "markdown",
   "metadata": {},
   "source": [
    "<h2> Hyper Parameter Tuning </h2>"
   ]
  },
  {
   "cell_type": "code",
   "execution_count": 43,
   "metadata": {},
   "outputs": [
    {
     "name": "stdout",
     "output_type": "stream",
     "text": [
      "Fitting 3 folds for each of 8 candidates, totalling 24 fits\n"
     ]
    },
    {
     "name": "stderr",
     "output_type": "stream",
     "text": [
      "[Parallel(n_jobs=1)]: Using backend SequentialBackend with 1 concurrent workers.\n",
      "[Parallel(n_jobs=1)]: Done  24 out of  24 | elapsed:   23.8s finished\n"
     ]
    },
    {
     "name": "stdout",
     "output_type": "stream",
     "text": [
      "Best HyperParameter:  {'alpha': 0.01}\n"
     ]
    }
   ],
   "source": [
    "#https://github.com/cyanamous/Amazon-Food-Reviews-Analysis-and-Modelling/blob/master/2%20Amazon%20Food%20Reviews%20-%20KNN%20.ipynb\n",
    "from sklearn.model_selection import GridSearchCV\n",
    "clf = MultinomialNB()\n",
    "param_grid = {'alpha':[10**-5, 10**-4, 10**-3, 10**-2, 10**0, 10**2, 10**3, 10**4]}\n",
    "gsv = GridSearchCV(clf,param_grid,verbose=1, scoring='roc_auc')\n",
    "gsv.fit(X_train_bow,y_train)\n",
    "print(\"Best HyperParameter: \",gsv.best_params_)"
   ]
  },
  {
   "cell_type": "markdown",
   "metadata": {},
   "source": [
    "<h2> ROC_AUC </h2>"
   ]
  },
  {
   "cell_type": "code",
   "execution_count": 44,
   "metadata": {},
   "outputs": [
    {
     "name": "stdout",
     "output_type": "stream",
     "text": [
      "0.8754771891448309\n"
     ]
    }
   ],
   "source": [
    "from sklearn.metrics import roc_auc_score\n",
    "roc_auc = roc_auc_score(y_train, pred)\n",
    "print(roc_auc)"
   ]
  },
  {
   "cell_type": "markdown",
   "metadata": {},
   "source": [
    "<h2> plot Performance Of Model </h2>"
   ]
  },
  {
   "cell_type": "markdown",
   "metadata": {},
   "source": [
    "<h2> Train Data </h2>"
   ]
  },
  {
   "cell_type": "code",
   "execution_count": 50,
   "metadata": {},
   "outputs": [
    {
     "data": {
      "image/png": "[encoded data removed]",
      "text/plain": [
       "<Figure size 432x288 with 1 Axes>"
      ]
     },
     "metadata": {},
     "output_type": "display_data"
    }
   ],
   "source": [
    "train_auc = []\n",
    "cv_auc = []\n",
    "\n",
    "train_auc = []\n",
    "test_auc = []\n",
    "alpha = [10**-5, 10**-4, 10**-3, 10**-2, 10**0, 10**2, 10**3, 10**4]\n",
    "for i in alpha:\n",
    "    nb = MultinomialNB(i)\n",
    "    nb.fit(X_train_bow, y_train)\n",
    "   \n",
    "    y_train_pred =  nb.predict_proba(X_train_bow)[:,1]\n",
    "    y_test_pred =  nb.predict_proba(X_test_bow)[:,1]\n",
    "\n",
    "    \n",
    "    train_auc.append(roc_auc_score(y_train,y_train_pred))\n",
    "    test_auc.append(roc_auc_score(y_test, y_test_pred))\n",
    "\n",
    "plt.plot(np.log10(alpha), train_auc, label=\"Train AUC =\"+str(auc(np.log10(alpha), train_auc)))\n",
    "plt.plot(np.log10(alpha), test_auc, label=\"Test AUC =\" +str(auc(np.log10(alpha), test_auc)))\n",
    "plt.legend()\n",
    "plt.xlabel(\"Alpha: hyperparameter\")\n",
    "plt.ylabel(\"AUC\")\n",
    "plt.title(\"ERROR PLOTS\")\n",
    "plt.show()"
   ]
  },
  {
   "cell_type": "markdown",
   "metadata": {},
   "source": [
    "<h2> Confusion Matrix </h2>"
   ]
  },
  {
   "cell_type": "markdown",
   "metadata": {},
   "source": [
    "<h2> Train Data </h2> "
   ]
  },
  {
   "cell_type": "code",
   "execution_count": 46,
   "metadata": {},
   "outputs": [
    {
     "data": {
      "text/plain": [
       "<matplotlib.axes._subplots.AxesSubplot at 0x1b474bba2e8>"
      ]
     },
     "execution_count": 46,
     "metadata": {},
     "output_type": "execute_result"
    },
    {
     "data": {
      "image/png": "[encoded data removed]",
      "text/plain": [
       "<Figure size 432x288 with 2 Axes>"
      ]
     },
     "metadata": {},
     "output_type": "display_data"
    }
   ],
   "source": [
    "#https://github.com/cyanamous/Amazon-Food-Reviews-Analysis-and-Modelling/blob/master/2%20Amazon%20Food%20Re20KNNviews%20-%%20.ipynb\n",
    "import seaborn as sns\n",
    "nb = MultinomialNB(alpha=0.01)\n",
    "nb.fit(X_train_bow, y_train)\n",
    "y_pred = nb.predict(X_train_bow)\n",
    "cm = pd.DataFrame(confusion_matrix(y_train, y_pred), range(2),range(2))\n",
    "sns.set(font_scale=1.4)\n",
    "sns.heatmap(cm, annot=True,annot_kws={\"size\": 16}, fmt='g')"
   ]
  },
  {
   "cell_type": "markdown",
   "metadata": {},
   "source": [
    "<h2> Test Data </h2>"
   ]
  },
  {
   "cell_type": "code",
   "execution_count": 47,
   "metadata": {},
   "outputs": [
    {
     "data": {
      "image/png": "[encoded data removed]",
      "text/plain": [
       "<Figure size 432x288 with 1 Axes>"
      ]
     },
     "metadata": {},
     "output_type": "display_data"
    }
   ],
   "source": [
    "from sklearn.metrics import roc_curve, auc\n",
    "best_alpha = 1\n",
    "nb = MultinomialNB(best_alpha)\n",
    "nb.fit(X_train_bow, y_train)\n",
    "\n",
    "train_fpr, train_tpr, thresholds = roc_curve(y_train, nb.predict_proba(X_train_bow)[:,1])\n",
    "test_fpr, test_tpr, thresholds = roc_curve(y_test, nb.predict_proba(X_test_bow)[:,1])\n",
    "\n",
    "plt.plot(train_fpr, train_tpr, label=\"train AUC =\"+str(auc(train_fpr, train_tpr)))\n",
    "plt.plot(test_fpr, test_tpr, label=\"test AUC =\"+str(auc(test_fpr, test_tpr)))\n",
    "plt.legend()\n",
    "plt.xlabel(\"Alpha: hyperparameter\")\n",
    "plt.ylabel(\"AUC\")\n",
    "plt.title(\"ERROR PLOTS\")\n",
    "plt.show()"
   ]
  },
  {
   "cell_type": "markdown",
   "metadata": {},
   "source": [
    "<h2> Confusion Matrix </h2>"
   ]
  },
  {
   "cell_type": "markdown",
   "metadata": {},
   "source": [
    "<h2> Test Data </h2>"
   ]
  },
  {
   "cell_type": "code",
   "execution_count": 48,
   "metadata": {},
   "outputs": [
    {
     "data": {
      "text/plain": [
       "<matplotlib.axes._subplots.AxesSubplot at 0x1b46d0f1320>"
      ]
     },
     "execution_count": 48,
     "metadata": {},
     "output_type": "execute_result"
    },
    {
     "data": {
      "image/png": "[encoded data removed]",
      "text/plain": [
       "<Figure size 432x288 with 2 Axes>"
      ]
     },
     "metadata": {},
     "output_type": "display_data"
    }
   ],
   "source": [
    "\n",
    "nb = MultinomialNB(alpha=0.01)\n",
    "nb.fit(X_test_bow, y_test)\n",
    "y_pred = nb.predict(X_test_bow)\n",
    "cm = pd.DataFrame(confusion_matrix(y_test, y_pred), range(2),range(2))\n",
    "sns.set(font_scale=1.4)\n",
    "sns.heatmap(cm, annot=True,annot_kws={\"size\": 16}, fmt='g')"
   ]
  },
  {
   "cell_type": "markdown",
   "metadata": {},
   "source": [
    "<h2> Features Importance </h2>"
   ]
  },
  {
   "cell_type": "code",
   "execution_count": 53,
   "metadata": {},
   "outputs": [
    {
     "name": "stdout",
     "output_type": "stream",
     "text": [
      "Positive Class (Top  Features Importance)\n",
      "['the' 'and' 'it' 'to' 'of' 'is' 'br' 'this' 'for' 'in']\n",
      "Negative Class (Top  Features Importance)\n",
      "['the' 'and' 'it' 'to' 'of' 'this' 'br' 'is' 'in' 'that']\n"
     ]
    }
   ],
   "source": [
    "clf.feature_log_prob_\n",
    "pos_class_prob_sorted = clf.feature_log_prob_[1, :].argsort()\n",
    "pos_class_prob_sorted = pos_class_prob_sorted[::-1]\n",
    "pos_class_prob_sorted[:10]\n",
    "print(\"Positive Class (Top  Features Importance)\")\n",
    "print(np.take(vectorizer.get_feature_names(), pos_class_prob_sorted[:10]))\n",
    "neg_class_prob_sorted = clf.feature_log_prob_[0, :].argsort()\n",
    "neg_class_prob_sorted = neg_class_prob_sorted[::-1]\n",
    "neg_class_prob_sorted = neg_class_prob_sorted[:10]\n",
    "print(\"Negative Class (Top  Features Importance)\")\n",
    "print(np.take(vectorizer.get_feature_names(), neg_class_prob_sorted[:10]))"
   ]
  },
  {
   "cell_type": "markdown",
   "metadata": {},
   "source": [
    "<h2> Feature Engineering </h2> "
   ]
  },
  {
   "cell_type": "code",
   "execution_count": 54,
   "metadata": {},
   "outputs": [
    {
     "name": "stdout",
     "output_type": "stream",
     "text": [
      "Train Data Size:  (44890, 719446)\n",
      "Test Data Size:  (33000, 719446)\n"
     ]
    }
   ],
   "source": [
    "from sklearn import preprocessing\n",
    "\n",
    "bi_gram = CountVectorizer(ngram_range=(1,2)) \n",
    "X_train_fe = bi_gram.fit_transform(X_train)\n",
    "\n",
    "print(\"Train Data Size: \",X_train_fe.shape)\n",
    "X_test_fe = bi_gram.transform(X_test)\n",
    "\n",
    "print(\"Test Data Size: \",X_test_fe.shape)"
   ]
  },
  {
   "cell_type": "markdown",
   "metadata": {},
   "source": [
    "##  TF-IDF"
   ]
  },
  {
   "cell_type": "code",
   "execution_count": 55,
   "metadata": {},
   "outputs": [
    {
     "name": "stdout",
     "output_type": "stream",
     "text": [
      "(44890,) (44890,)\n",
      "(22110,) (22110,)\n",
      "(33000,) (33000,)\n",
      "====================================================================================================\n",
      "After vectorizations\n",
      "(44890, 716894) (44890,)\n",
      "(22110, 716894) (22110,)\n",
      "(33000, 716894) (33000,)\n",
      "====================================================================================================\n"
     ]
    }
   ],
   "source": [
    "# https://scikit-learn.org/stable/modules/generated/sklearn.model_selection.train_test_split.html\n",
    "X_train_1, X_test_1, y_train_1, y_test_1 = train_test_split(x, y, test_size=0.33) \n",
    "X_train_1, X_cv_1, y_train_1, y_cv_1 = train_test_split(X_train_1, y_train_1, test_size=0.33) \n",
    "\n",
    "\n",
    "print(X_train_1.shape, y_train_1.shape)\n",
    "print(X_cv_1.shape, y_cv_1.shape)\n",
    "print(X_test_1.shape, y_test_1.shape)\n",
    "\n",
    "print(\"=\"*100)\n",
    "\n",
    "vectorizer_1 =  TfidfVectorizer(ngram_range=(1,2))\n",
    "vectorizer_1.fit(X_train_1) \n",
    "\n",
    "X_train_tfidf = vectorizer_1.transform(X_train_1)\n",
    "X_cv_tfidf = vectorizer_1.transform(X_cv_1)\n",
    "X_test_tfidf = vectorizer_1.transform(X_test_1)\n",
    "\n",
    "print(\"After vectorizations\")\n",
    "print(X_train_tfidf.shape, y_train_1.shape)\n",
    "print(X_cv_tfidf.shape, y_cv_1.shape)\n",
    "print(X_test_tfidf.shape, y_test_1.shape)\n",
    "print(\"=\"*100)"
   ]
  },
  {
   "cell_type": "markdown",
   "metadata": {},
   "source": [
    "<h2> Applying Mutlinomial Naive Bayes </h2> "
   ]
  },
  {
   "cell_type": "code",
   "execution_count": 64,
   "metadata": {},
   "outputs": [
    {
     "name": "stdout",
     "output_type": "stream",
     "text": [
      "[1 1 1 ... 1 1 1]\n",
      "[[-7.19946304e+00 -7.47265933e-04]\n",
      " [-1.32824667e+01 -1.70411303e-06]\n",
      " [-1.09007112e+01 -1.84452807e-05]\n",
      " [-8.45852839e+00 -2.12106439e-04]\n",
      " [-8.96417264e+00 -1.27919592e-04]\n",
      " [-1.10239873e+01 -1.63059718e-05]\n",
      " [-8.63640193e+00 -1.77540259e-04]\n",
      " [-9.03546851e+00 -1.19116452e-04]\n",
      " [-1.18930576e+01 -6.83773381e-06]\n",
      " [-9.14439769e+00 -1.06822254e-04]]\n"
     ]
    }
   ],
   "source": [
    "#https://scikit-learn.org/stable/modules/generated/sklearn.naive_bayes.MultinomialNB.html\n",
    "clf = MultinomialNB()\n",
    "clf.fit(X_train_tfidf, y_train_1)\n",
    "MultinomialNB(alpha=1.0, class_prior=None, fit_prior=True)\n",
    "pred_1 = clf.predict(X_train_tfidf)\n",
    "print(pred_1)\n",
    "print(clf.predict_log_proba(X_train_tfidf)[0:10])"
   ]
  },
  {
   "cell_type": "code",
   "execution_count": 65,
   "metadata": {},
   "outputs": [
    {
     "data": {
      "text/plain": [
       "array([[-11.33676018, -13.5722149 , -13.5722149 , ..., -13.5722149 ,\n",
       "        -13.5722149 , -13.5722149 ],\n",
       "       [-10.73796447, -13.82796741, -13.73703353, ..., -13.71614075,\n",
       "        -13.72875568, -13.72875568]])"
      ]
     },
     "execution_count": 65,
     "metadata": {},
     "output_type": "execute_result"
    }
   ],
   "source": [
    "clf.feature_log_prob_"
   ]
  },
  {
   "cell_type": "markdown",
   "metadata": {},
   "source": [
    "<h2> Hyper Parameter Tuning (Best Alpha) </h2>"
   ]
  },
  {
   "cell_type": "code",
   "execution_count": 58,
   "metadata": {},
   "outputs": [
    {
     "name": "stdout",
     "output_type": "stream",
     "text": [
      "Fitting 3 folds for each of 8 candidates, totalling 24 fits\n"
     ]
    },
    {
     "name": "stderr",
     "output_type": "stream",
     "text": [
      "[Parallel(n_jobs=1)]: Using backend SequentialBackend with 1 concurrent workers.\n",
      "[Parallel(n_jobs=1)]: Done  24 out of  24 | elapsed:   21.9s finished\n"
     ]
    },
    {
     "name": "stdout",
     "output_type": "stream",
     "text": [
      "Best HyperParameter:  {'alpha': 0.001}\n"
     ]
    }
   ],
   "source": [
    "clf = MultinomialNB()\n",
    "param_grid = {'alpha':[10**-5, 10**-4, 10**-3, 10**-2, 10**0, 10**2, 10**3, 10**4]} \n",
    "gsv = GridSearchCV(clf,param_grid,verbose=1)\n",
    "gsv.fit(X_train_tfidf,y_train_1)\n",
    "print(\"Best HyperParameter: \",gsv.best_params_)"
   ]
  },
  {
   "cell_type": "markdown",
   "metadata": {},
   "source": [
    "<h2> ROC_AUC </h2>"
   ]
  },
  {
   "cell_type": "code",
   "execution_count": 59,
   "metadata": {},
   "outputs": [
    {
     "name": "stdout",
     "output_type": "stream",
     "text": [
      "0.5\n"
     ]
    }
   ],
   "source": [
    "roc_auc = roc_auc_score(y_train, pred_1)\n",
    "print(roc_auc)"
   ]
  },
  {
   "cell_type": "markdown",
   "metadata": {},
   "source": [
    "<h2> Performance Of Model </h2>"
   ]
  },
  {
   "cell_type": "markdown",
   "metadata": {},
   "source": [
    "<h2> Train Data </h2>"
   ]
  },
  {
   "cell_type": "code",
   "execution_count": 60,
   "metadata": {},
   "outputs": [
    {
     "data": {
      "image/png": "[encoded data removed]",
      "text/plain": [
       "<Figure size 432x288 with 1 Axes>"
      ]
     },
     "metadata": {},
     "output_type": "display_data"
    }
   ],
   "source": [
    "train_auc = []\n",
    "cv_auc = []\n",
    "\n",
    "train_auc = []\n",
    "test_auc = []\n",
    "alpha = [10**-5, 10**-4, 10**-3, 10**-2, 10**0, 10**2, 10**3, 10**4]\n",
    "for i in alpha:\n",
    "    nb = MultinomialNB(i)\n",
    "    nb.fit(X_train_tfidf, y_train)\n",
    "   \n",
    "    y_train_pred =  nb.predict_proba(X_train_tfidf)[:,1]\n",
    "    y_test_pred =  nb.predict_proba(X_test_tfidf)[:,1]\n",
    "\n",
    "    \n",
    "    train_auc.append(roc_auc_score(y_train,y_train_pred))\n",
    "    test_auc.append(roc_auc_score(y_test, y_test_pred))\n",
    "\n",
    "plt.plot(np.log10(alpha), train_auc, label=\"Train AUC =\"+str(auc(np.log10(alpha), train_auc)))\n",
    "plt.plot(np.log10(alpha), test_auc, label=\"Test AUC =\" +str(auc(np.log10(alpha), test_auc)))\n",
    "plt.legend()\n",
    "plt.xlabel(\"Alpha: hyperparameter\")\n",
    "plt.ylabel(\"AUC\")\n",
    "plt.title(\"ERROR PLOTS\")\n",
    "plt.show()"
   ]
  },
  {
   "cell_type": "markdown",
   "metadata": {},
   "source": [
    "<h2> Confusion Matrix </h2>"
   ]
  },
  {
   "cell_type": "markdown",
   "metadata": {},
   "source": [
    "<h2> Train Data </h2>"
   ]
  },
  {
   "cell_type": "code",
   "execution_count": 61,
   "metadata": {},
   "outputs": [
    {
     "data": {
      "text/plain": [
       "<matplotlib.axes._subplots.AxesSubplot at 0x1b418e38588>"
      ]
     },
     "execution_count": 61,
     "metadata": {},
     "output_type": "execute_result"
    },
    {
     "data": {
      "image/png": "[encoded data removed]",
      "text/plain": [
       "<Figure size 432x288 with 2 Axes>"
      ]
     },
     "metadata": {},
     "output_type": "display_data"
    }
   ],
   "source": [
    "#https://github.com/cyanamous/Amazon-Food-Reviews-Analysis-and-Modelling/blob/master/2%20Amazon%20Food%20Re20KNNviews%20-%%20.ipynb\n",
    "nb = MultinomialNB(alpha=0.001)\n",
    "nb.fit(X_train_bow, y_train)\n",
    "y_pred = nb.predict(X_train_bow)\n",
    "cm = pd.DataFrame(confusion_matrix(y_train, y_pred), range(2),range(2))\n",
    "sns.set(font_scale=1.4)\n",
    "sns.heatmap(cm, annot=True,annot_kws={\"size\": 16}, fmt='g')"
   ]
  },
  {
   "cell_type": "markdown",
   "metadata": {},
   "source": [
    "<h2> Test Data </h2>"
   ]
  },
  {
   "cell_type": "code",
   "execution_count": 62,
   "metadata": {},
   "outputs": [
    {
     "data": {
      "image/png": "[encoded data removed]",
      "text/plain": [
       "<Figure size 432x288 with 1 Axes>"
      ]
     },
     "metadata": {},
     "output_type": "display_data"
    }
   ],
   "source": [
    "from sklearn.metrics import roc_curve, auc\n",
    "best_alpha = 0.01\n",
    "nb = MultinomialNB(best_alpha)\n",
    "nb.fit(X_train_tfidf, y_train_1)\n",
    "\n",
    "train_fpr, train_tpr, thresholds = roc_curve(y_train_1, nb.predict_proba(X_train_tfidf)[:,1])\n",
    "test_fpr, test_tpr, thresholds = roc_curve(y_test_1, nb.predict_proba(X_test_tfidf)[:,1])\n",
    "\n",
    "plt.plot(train_fpr, train_tpr, label=\"train AUC =\"+str(auc(train_fpr, train_tpr)))\n",
    "plt.plot(test_fpr, test_tpr, label=\"test AUC =\"+str(auc(test_fpr, test_tpr)))\n",
    "plt.legend()\n",
    "plt.xlabel(\"Alpha: hyperparameter\")\n",
    "plt.ylabel(\"AUC\")\n",
    "plt.title(\"ERROR PLOTS\")\n",
    "plt.show()"
   ]
  },
  {
   "cell_type": "markdown",
   "metadata": {},
   "source": [
    "<h2> Confusion Matrix </h2>"
   ]
  },
  {
   "cell_type": "markdown",
   "metadata": {},
   "source": [
    "<h2> Test Data </h2>"
   ]
  },
  {
   "cell_type": "code",
   "execution_count": 63,
   "metadata": {},
   "outputs": [
    {
     "data": {
      "text/plain": [
       "<matplotlib.axes._subplots.AxesSubplot at 0x1b471669278>"
      ]
     },
     "execution_count": 63,
     "metadata": {},
     "output_type": "execute_result"
    },
    {
     "data": {
      "image/png": "[encoded data removed]",
      "text/plain": [
       "<Figure size 432x288 with 2 Axes>"
      ]
     },
     "metadata": {},
     "output_type": "display_data"
    }
   ],
   "source": [
    "#https://github.com/cyanamous/Amazon-Food-Reviews-Analysis-and-Modelling/blob/master/2%20Amazon%20Food%20Re20KNNviews%20-%%20.ipynb\n",
    "\n",
    "nb = MultinomialNB(alpha=0.001)\n",
    "nb.fit(X_test_bow, y_test)\n",
    "y_pred = nb.predict(X_test_bow)\n",
    "cm = pd.DataFrame(confusion_matrix(y_test, y_pred), range(2),range(2))\n",
    "sns.set(font_scale=1.4)\n",
    "sns.heatmap(cm, annot=True,annot_kws={\"size\": 16}, fmt='g')"
   ]
  },
  {
   "cell_type": "markdown",
   "metadata": {},
   "source": [
    "<h2> Features Importance </h2>"
   ]
  },
  {
   "cell_type": "code",
   "execution_count": 66,
   "metadata": {},
   "outputs": [
    {
     "name": "stdout",
     "output_type": "stream",
     "text": [
      "Positive Class (Top  Features Importance)\n",
      "['the' 'and' 'it' 'to' 'is' 'br' 'of' 'this' 'for' 'in']\n",
      "Negative Class (Top  Features Importance)\n",
      "['the' 'it' 'and' 'to' 'br' 'of' 'this' 'not' 'was' 'is']\n"
     ]
    }
   ],
   "source": [
    "clf.feature_log_prob_\n",
    "pos_class_prob_sorted = clf.feature_log_prob_[1, :].argsort()\n",
    "pos_class_prob_sorted = pos_class_prob_sorted[::-1]\n",
    "pos_class_prob_sorted[:10]\n",
    "print(\"Positive Class (Top  Features Importance)\")\n",
    "print(np.take(vectorizer_1.get_feature_names(), pos_class_prob_sorted[:10]))\n",
    "neg_class_prob_sorted = clf.feature_log_prob_[0, :].argsort()\n",
    "neg_class_prob_sorted = neg_class_prob_sorted[::-1]\n",
    "neg_class_prob_sorted = neg_class_prob_sorted[:10]\n",
    "print(\"Negative Class (Top  Features Importance)\")\n",
    "print(np.take(vectorizer_1.get_feature_names(), neg_class_prob_sorted[:10]))"
   ]
  },
  {
   "cell_type": "markdown",
   "metadata": {},
   "source": [
    "<h2> Feature Engineering </h2>"
   ]
  },
  {
   "cell_type": "code",
   "execution_count": 67,
   "metadata": {},
   "outputs": [
    {
     "name": "stdout",
     "output_type": "stream",
     "text": [
      "Train Data Size:  (44890, 719446)\n",
      "Test Data Size:  (33000, 719446)\n"
     ]
    }
   ],
   "source": [
    "from sklearn import preprocessing\n",
    "bi_gram = TfidfVectorizer(ngram_range=(1,2)) \n",
    "X_train_fe = bi_gram.fit_transform(X_train)\n",
    "print(\"Train Data Size: \",X_train_fe.shape)\n",
    "\n",
    "X_test_fe = bi_gram.transform(X_test)\n",
    "print(\"Test Data Size: \",X_test_fe.shape)"
   ]
  },
  {
   "cell_type": "markdown",
   "metadata": {},
   "source": [
    "<h2> Conclusion Table </h2>"
   ]
  },
  {
   "cell_type": "code",
   "execution_count": 69,
   "metadata": {},
   "outputs": [
    {
     "name": "stdout",
     "output_type": "stream",
     "text": [
      "+--------+------------+-------------------------+-----------------------------+-----------+----------+---------+\n",
      "|  Set   | Vectorizer |         Model 1         | Hyper Parameter(Best_Alpha) | Train_AUC | Test_AUC | ROC_AUC |\n",
      "+--------+------------+-------------------------+-----------------------------+-----------+----------+---------+\n",
      "| Set:-1 |    BOW     | Multinomial_Naive_bayes |              1              |    7.48   |   0.97   |   0.87  |\n",
      "| Set:-2 |   TFIDF    |    Multinomial_Naive    |             0.01            |    6.76   |   0.94   |   0.5   |\n",
      "+--------+------------+-------------------------+-----------------------------+-----------+----------+---------+\n"
     ]
    }
   ],
   "source": [
    "from prettytable import PrettyTable\n",
    " \n",
    "x = PrettyTable()\n",
    "\n",
    "x.field_names = [\"Set\", \"Vectorizer\", \"Model 1\", \"Hyper Parameter(Best_Alpha)\", \"Train_AUC\", \"Test_AUC\", \"ROC_AUC\"]\n",
    "\n",
    "x.add_row([\"Set:-1\", \"BOW\", \"Multinomial_Naive_bayes\", 1, 7.48, 0.97, 0.87])\n",
    "x.add_row([\"Set:-2\", \"TFIDF\", \"Multinomial_Naive\", 0.01, 6.76, 0.94, 0.50])\n",
    "print(x)"
   ]
  },
  {
   "cell_type": "markdown",
   "metadata": {},
   "source": [
    "# Conclusion:-"
   ]
  },
  {
   "cell_type": "markdown",
   "metadata": {},
   "source": [
    "1. I loaded a amazon fine  food reviews and after that i change score in 0 and 1 where 1 represent positive reviews and  0      represent negative reviews.\n",
    "2. Then i split whole datapoints into 3parts Train Data , TestData And Cross-validation data.\n",
    "3. Then i used this splited datapoint for featurization BOW, TF_IDF, W2Vec , AvgW2Vec featurization .\n",
    "4. Then i used only Train data to avoid dataleakage. and i applied naive bayes in train data \n",
    "5. Then i find Hyper Parameter Tuning where i found best Hyper Parameter tuning, best Accurancy through GridSerch cross-validation.\n",
    "6. Then i find feature Importance in naive bayes classification where i found top 10 positive and nagative features names in it.\n",
    "7. Then i ploted Performance of model in train data and test and cross-validation data using naive bayes classification.\n",
    "8. Then i caculate confusion matrix where i try to find how many data points are actually positive and negative and how many are predicated datapoint in it.\n",
    "9. Then  i created Conclusion table using pretty table for 4 featurization where i show the values of best hyper parameter, train_AUC, Test_AUC values in table for all 4 featurization."
   ]
  },
  {
   "cell_type": "markdown",
   "metadata": {},
   "source": [
    "<h2>=========================================================================== "
   ]
  }
 ],
 "metadata": {
  "kernelspec": {
   "display_name": "Python 3 (ipykernel)",
   "language": "python",
   "name": "python3"
  },
  "language_info": {
   "codemirror_mode": {
    "name": "ipython",
    "version": 3
   },
   "file_extension": ".py",
   "mimetype": "text/x-python",
   "name": "python",
   "nbconvert_exporter": "python",
   "pygments_lexer": "ipython3",
   "version": "3.9.12"
  }
 },
 "nbformat": 4,
 "nbformat_minor": 2
}
